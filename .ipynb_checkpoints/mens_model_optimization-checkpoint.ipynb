{
 "cells": [
  {
   "cell_type": "code",
   "execution_count": 2,
   "id": "cfd4ff08",
   "metadata": {},
   "outputs": [],
   "source": [
    "import os\n",
    "import pandas as pd\n",
    "import numpy as np\n",
    "import pickle\n",
    "\n",
    "from scipy.optimize import minimize\n",
    "\n",
    "\n",
    "from trueskillthroughtime import Game, Player, History, Gaussian"
   ]
  },
  {
   "cell_type": "code",
   "execution_count": 3,
   "id": "119d5d38",
   "metadata": {},
   "outputs": [
    {
     "name": "stdout",
     "output_type": "stream",
     "text": [
      "shape before dropping match dupes: (581807, 53)\n",
      "shape after dropping match dupes: (581746, 53)\n"
     ]
    }
   ],
   "source": [
    "folder = \"C:/Users/yaobv/tennis_project/tennis_atp\"\n",
    "\n",
    "df = pd.DataFrame()\n",
    "\n",
    "for file in os.listdir(f'{folder}'):\n",
    "\n",
    "    if file.endswith('csv') and '20' in file and 'doubles' not in file:\n",
    "        df_ = pd.read_csv(f'{folder}/{file}')\n",
    "        df = pd.concat([df, df_])\n",
    "\n",
    "\n",
    "df = df[df['winner_name'].apply(lambda x: isinstance(x, str))].copy()\n",
    "df = df[df['loser_name'].apply(lambda x: isinstance(x, str))].copy()\n",
    "df = df[~df['winner_name'].str.contains('Unknown')].copy()\n",
    "df = df[~df['loser_name'].str.contains('Unknown')].copy()\n",
    "df = df[df['winner_name'] != df['loser_name']].copy()\n",
    "\n",
    "df.sort_values(by=['tourney_date', 'tourney_id', 'round'],\n",
    "               ascending=[True, True, True],\n",
    "               inplace=True)\n",
    "\n",
    "print('shape before dropping match dupes:', df.shape)\n",
    "\n",
    "\n",
    "df.drop_duplicates(subset=['winner_name', 'loser_name', 'tourney_id'],\n",
    "                   inplace=True)\n",
    "\n",
    "print('shape after dropping match dupes:', df.shape)\n",
    "\n",
    "df.reset_index(inplace=True, drop=True)"
   ]
  },
  {
   "cell_type": "code",
   "execution_count": 4,
   "id": "25fe2dea",
   "metadata": {},
   "outputs": [],
   "source": [
    "columns = zip(df.winner_name, df.loser_name, df.surface)\n",
    "\n",
    "composition = [[[winner, winner + surface], [loser, loser + surface]]\n",
    "               for winner, loser, surface in columns]"
   ]
  },
  {
   "cell_type": "code",
   "execution_count": 5,
   "id": "84536fdb",
   "metadata": {},
   "outputs": [],
   "source": [
    "all_atp_players = set([val for sublist in zip(df.winner_name, df.loser_name) for val in sublist])"
   ]
  },
  {
   "cell_type": "code",
   "execution_count": 19,
   "id": "45637f2e",
   "metadata": {},
   "outputs": [],
   "source": [
    "priors = dict([(p, Player(Gaussian(0., 1.51), 1.5, 0.098) ) for p in all_atp_players])"
   ]
  },
  {
   "cell_type": "code",
   "execution_count": 20,
   "id": "f31596cb",
   "metadata": {},
   "outputs": [],
   "source": [
    "true_skill_history_priors = History(composition=composition,\n",
    "                                    priors=priors,\n",
    "                                    beta=0,\n",
    "                                    sigma=0.5,\n",
    "                                    gamma=0.01)"
   ]
  },
  {
   "cell_type": "code",
   "execution_count": 21,
   "id": "bc276f73",
   "metadata": {},
   "outputs": [
    {
     "data": {
      "text/plain": [
       "-346716.8869531072"
      ]
     },
     "execution_count": 21,
     "metadata": {},
     "output_type": "execute_result"
    }
   ],
   "source": [
    "true_skill_history_priors.log_evidence()"
   ]
  },
  {
   "cell_type": "code",
   "execution_count": 34,
   "id": "2543cf91",
   "metadata": {},
   "outputs": [],
   "source": [
    "def training(x):\n",
    "    \n",
    "    a, b = x\n",
    "    \n",
    "    priors = dict([(p, Player(Gaussian(0, a), 1.5, 0.98)) for p in all_atp_players])\n",
    "    \n",
    "    true_skill_history_priors = History(composition=composition,\n",
    "                                    priors=priors,\n",
    "                                    beta=0,\n",
    "                                    sigma=b,\n",
    "                                    gamma=0.01)\n",
    "    \n",
    "    log_ev = true_skill_history_priors.log_evidence()\n",
    "    \n",
    "    return -1 * log_ev  "
   ]
  },
  {
   "cell_type": "code",
   "execution_count": null,
   "id": "637dd720",
   "metadata": {},
   "outputs": [],
   "source": [
    "to_start = [1.3, 0.5]\n",
    "\n",
    "bounds = ((0.9, 1.6), (0.3, 0.8))\n",
    "\n",
    "result = minimize(training, to_start, bounds=bounds, method='SLSQP')"
   ]
  },
  {
   "cell_type": "code",
   "execution_count": 39,
   "id": "0fac808f",
   "metadata": {},
   "outputs": [
    {
     "name": "stdout",
     "output_type": "stream",
     "text": [
      "Iteration =  0 , step =  (3.7638065299271775, 0.9568087274906079)\n",
      "Iteration =  1 , step =  (0.5992915591564723, 0.04234960836586121)\n",
      "Iteration =  2 , step =  (0.3750498157579929, 0.014743538780252585)\n",
      "Iteration =  3 , step =  (0.27690898982839673, 0.010851022039432667)\n",
      "Iteration =  4 , step =  (0.23299169677792353, 0.009073882388377585)\n",
      "Iteration =  5 , step =  (0.20274338728320362, 0.007937127428417012)\n",
      "Iteration =  6 , step =  (0.1811644466948925, 0.006970466322375524)\n",
      "Iteration =  7 , step =  (0.16183371420684978, 0.006148849143449153)\n",
      "Iteration =  8 , step =  (0.14468375524345944, 0.0054461237981418)\n",
      "Iteration =  9 , step =  (0.12951581360599285, 0.0048408627363858425)\n",
      "End\n"
     ]
    },
    {
     "data": {
      "text/plain": [
       "((0.12951581360599285, 0.0048408627363858425), 10)"
      ]
     },
     "execution_count": 39,
     "metadata": {},
     "output_type": "execute_result"
    }
   ],
   "source": [
    "true_skill_history_priors.convergence(epsilon=0.01, iterations=10)"
   ]
  },
  {
   "cell_type": "code",
   "execution_count": 40,
   "id": "f890f882",
   "metadata": {},
   "outputs": [
    {
     "data": {
      "text/plain": [
       "-326440.88258121174"
      ]
     },
     "execution_count": 40,
     "metadata": {},
     "output_type": "execute_result"
    }
   ],
   "source": [
    "true_skill_history_priors.log_evidence()"
   ]
  },
  {
   "cell_type": "code",
   "execution_count": 41,
   "id": "debef1b5",
   "metadata": {},
   "outputs": [],
   "source": [
    "ts_dict = true_skill_history_priors.learning_curves()"
   ]
  },
  {
   "cell_type": "code",
   "execution_count": 42,
   "id": "fb5dafe5",
   "metadata": {},
   "outputs": [],
   "source": [
    "small_dict = dict()\n",
    "\n",
    "for key in ts_dict.keys():\n",
    "    small_dict[key] = ts_dict[key][-1]"
   ]
  },
  {
   "cell_type": "code",
   "execution_count": 82,
   "id": "42c08cea",
   "metadata": {},
   "outputs": [
    {
     "ename": "AttributeError",
     "evalue": "'str' object has no attribute 'values'",
     "output_type": "error",
     "traceback": [
      "\u001b[1;31m---------------------------------------------------------------------------\u001b[0m",
      "\u001b[1;31mAttributeError\u001b[0m                            Traceback (most recent call last)",
      "\u001b[1;32m~\\AppData\\Local\\Temp\\ipykernel_23320\\2385345481.py\u001b[0m in \u001b[0;36m<module>\u001b[1;34m\u001b[0m\n\u001b[1;32m----> 1\u001b[1;33m \u001b[0msorted\u001b[0m\u001b[1;33m(\u001b[0m\u001b[0msmall_dict\u001b[0m\u001b[1;33m,\u001b[0m \u001b[0mkey\u001b[0m\u001b[1;33m=\u001b[0m\u001b[1;32mlambda\u001b[0m \u001b[0mx\u001b[0m\u001b[1;33m:\u001b[0m \u001b[1;33m[\u001b[0m\u001b[0mlist\u001b[0m\u001b[1;33m(\u001b[0m\u001b[0my\u001b[0m\u001b[1;33m[\u001b[0m\u001b[1;36m1\u001b[0m\u001b[1;33m]\u001b[0m\u001b[1;33m)\u001b[0m\u001b[1;33m[\u001b[0m\u001b[1;36m0\u001b[0m\u001b[1;33m]\u001b[0m \u001b[1;32mfor\u001b[0m \u001b[0my\u001b[0m \u001b[1;32min\u001b[0m \u001b[0mx\u001b[0m\u001b[1;33m.\u001b[0m\u001b[0mvalues\u001b[0m\u001b[1;33m(\u001b[0m\u001b[1;33m)\u001b[0m\u001b[1;33m]\u001b[0m\u001b[1;33m)\u001b[0m\u001b[1;33m\u001b[0m\u001b[1;33m\u001b[0m\u001b[0m\n\u001b[0m",
      "\u001b[1;32m~\\AppData\\Local\\Temp\\ipykernel_23320\\2385345481.py\u001b[0m in \u001b[0;36m<lambda>\u001b[1;34m(x)\u001b[0m\n\u001b[1;32m----> 1\u001b[1;33m \u001b[0msorted\u001b[0m\u001b[1;33m(\u001b[0m\u001b[0msmall_dict\u001b[0m\u001b[1;33m,\u001b[0m \u001b[0mkey\u001b[0m\u001b[1;33m=\u001b[0m\u001b[1;32mlambda\u001b[0m \u001b[0mx\u001b[0m\u001b[1;33m:\u001b[0m \u001b[1;33m[\u001b[0m\u001b[0mlist\u001b[0m\u001b[1;33m(\u001b[0m\u001b[0my\u001b[0m\u001b[1;33m[\u001b[0m\u001b[1;36m1\u001b[0m\u001b[1;33m]\u001b[0m\u001b[1;33m)\u001b[0m\u001b[1;33m[\u001b[0m\u001b[1;36m0\u001b[0m\u001b[1;33m]\u001b[0m \u001b[1;32mfor\u001b[0m \u001b[0my\u001b[0m \u001b[1;32min\u001b[0m \u001b[0mx\u001b[0m\u001b[1;33m.\u001b[0m\u001b[0mvalues\u001b[0m\u001b[1;33m(\u001b[0m\u001b[1;33m)\u001b[0m\u001b[1;33m]\u001b[0m\u001b[1;33m)\u001b[0m\u001b[1;33m\u001b[0m\u001b[1;33m\u001b[0m\u001b[0m\n\u001b[0m",
      "\u001b[1;31mAttributeError\u001b[0m: 'str' object has no attribute 'values'"
     ]
    }
   ],
   "source": [
    "sorted(small_dict, key=lambda x: [list(y[1])[0] for y in x.values()])"
   ]
  },
  {
   "cell_type": "code",
   "execution_count": 86,
   "id": "3a854efb",
   "metadata": {},
   "outputs": [],
   "source": [
    "top_players = dict()\n",
    "\n",
    "for player, rating in small_dict.items():\n",
    "    \n",
    "    top_players[player] = list(rating[1])[0]"
   ]
  },
  {
   "cell_type": "code",
   "execution_count": 89,
   "id": "79384ece",
   "metadata": {},
   "outputs": [
    {
     "data": {
      "text/plain": [
       "[('Novak Djokovic', 9.273663390050773),\n",
       " ('Robin Soderling', 8.39284263036838),\n",
       " ('Carlos Alcaraz', 7.804666508346942),\n",
       " ('Stefanos Tsitsipas', 7.778554616843257),\n",
       " ('Matteo Berrettini', 7.575524197051474),\n",
       " ('Alexander Zverev', 7.443913394475121),\n",
       " ('Rafael Nadal', 7.383220595871317),\n",
       " ('Nick Kyrgios', 7.349614231153415),\n",
       " ('Felix Auger Aliassime', 7.344618655079774),\n",
       " ('Roger Federer', 7.246479432474963),\n",
       " ('Holger Rune', 7.1376156564818585),\n",
       " ('Daniil Medvedev', 7.034209250580584),\n",
       " ('Jannik Sinner', 6.998889875131355),\n",
       " ('Juan Martin del Potro', 6.855875722959703),\n",
       " ('Sebastian Korda', 6.846484537383871),\n",
       " ('Taylor Fritz', 6.8386449332453205),\n",
       " ('Cameron Norrie', 6.711937934450516),\n",
       " ('Casper Ruud', 6.67839116853247),\n",
       " ('Frances Tiafoe', 6.583157251182714),\n",
       " ('Hubert Hurkacz', 6.579836456538137),\n",
       " ('Andrey Rublev', 6.537087781448688),\n",
       " ('David Nalbandian', 6.487021689170225),\n",
       " ('Alex De Minaur', 6.482223026403858),\n",
       " ('Karen Khachanov', 6.451622281774738),\n",
       " ('Borna Coric', 6.434492722723891)]"
      ]
     },
     "execution_count": 89,
     "metadata": {},
     "output_type": "execute_result"
    }
   ],
   "source": [
    "sorted(top_players.items(), key=lambda x: x[1], reverse=True)[:25]"
   ]
  },
  {
   "cell_type": "code",
   "execution_count": 90,
   "id": "82ee4563",
   "metadata": {},
   "outputs": [],
   "source": [
    "clay_players = [x for x in top_players.keys() if x.endswith('Clay')]\n",
    "clay_dict = dict()\n",
    "\n",
    "for p, r in small_dict.items():\n",
    "    if p in clay_players:\n",
    "        clay_dict[p] = list(r[1])[0]        "
   ]
  },
  {
   "cell_type": "code",
   "execution_count": 91,
   "id": "351982ed",
   "metadata": {},
   "outputs": [
    {
     "data": {
      "text/plain": [
       "[('Filippo VolandriClay', 2.034824026340198),\n",
       " ('Rafael NadalClay', 1.7398750755004595),\n",
       " ('Daniel Gimeno TraverClay', 1.6657520755190967),\n",
       " ('Federico DelbonisClay', 1.5986774537875765),\n",
       " ('Potito StaraceClay', 1.5332930373432294),\n",
       " ('Adrian UngurClay', 1.515806148660574),\n",
       " ('Pablo AndujarClay', 1.5147155265139758),\n",
       " ('Gaston GaudioClay', 1.477879059682873),\n",
       " ('Albert MontanesClay', 1.4769406537309206),\n",
       " ('Marco CecchinatoClay', 1.452026189346882),\n",
       " ('David SanchezClay', 1.4302984612738923),\n",
       " ('Albert PortasClay', 1.4165234043733175),\n",
       " ('Ruben Ramirez HidalgoClay', 1.4083556448557817),\n",
       " ('Oscar HernandezClay', 1.3961809715631273),\n",
       " ('Laslo DjereClay', 1.3620709147301602),\n",
       " ('Nicolas AlmagroClay', 1.3514624896343512),\n",
       " ('Facundo BagnisClay', 1.343836397127044),\n",
       " ('Alessio Di MauroClay', 1.326519431471131),\n",
       " ('Simone VagnozziClay', 1.3139490365486515),\n",
       " ('Mariano PuertaClay', 1.3109418951115865),\n",
       " ('Jose AcasusoClay', 1.308203922288961),\n",
       " ('Eric ProdonClay', 1.2930829933484944),\n",
       " ('Pere RibaClay', 1.2894081069861596),\n",
       " ('Albert RamosClay', 1.277009926392541),\n",
       " ('David FerrerClay', 1.264984837699744)]"
      ]
     },
     "execution_count": 91,
     "metadata": {},
     "output_type": "execute_result"
    }
   ],
   "source": [
    "sorted(clay_dict.items(), key=lambda x: x[1], reverse=True)[:25]"
   ]
  },
  {
   "cell_type": "code",
   "execution_count": 92,
   "id": "038280dd",
   "metadata": {},
   "outputs": [],
   "source": [
    "grass_players = [x for x in top_players.keys() if x.endswith('Grass')]\n",
    "grass_dict = dict()\n",
    "\n",
    "for p, r in small_dict.items():\n",
    "    if p in grass_players:\n",
    "        grass_dict[p] = list(r[1])[0] "
   ]
  },
  {
   "cell_type": "code",
   "execution_count": 95,
   "id": "0310396f",
   "metadata": {},
   "outputs": [
    {
     "data": {
      "text/plain": [
       "[('Nicolas MahutGrass', 0.9815734879625846),\n",
       " ('Jonas BjorkmanGrass', 0.9696293926751484),\n",
       " ('Lleyton HewittGrass', 0.914744212310804),\n",
       " ('Alexander PoppGrass', 0.8929656637929466),\n",
       " ('Feliciano LopezGrass', 0.8813820554518281),\n",
       " ('Matthew EbdenGrass', 0.8738608290646352),\n",
       " ('Florian MayerGrass', 0.867749971425988),\n",
       " ('Xavier MalisseGrass', 0.8299195211179867),\n",
       " ('Andy RoddickGrass', 0.8096794153589679),\n",
       " ('Travis RettenmaierGrass', 0.801000919879447),\n",
       " ('Jimmy WangGrass', 0.7986896906286571),\n",
       " ('Sam GrothGrass', 0.7966195671447891),\n",
       " ('Brydan KleinGrass', 0.793607356014414),\n",
       " ('David PrinosilGrass', 0.7642178753230623),\n",
       " ('Adrian MannarinoGrass', 0.7443137519752823),\n",
       " ('Denis KudlaGrass', 0.7369892897936908),\n",
       " ('Ivo KarlovicGrass', 0.733736667576267),\n",
       " ('Mate PavicGrass', 0.7237718612659084),\n",
       " ('Jamie DelgadoGrass', 0.7211601581981387),\n",
       " ('Benjamin BeckerGrass', 0.7056740250967313),\n",
       " ('Rainer SchuettlerGrass', 0.7040587148081976),\n",
       " ('Mario AncicGrass', 0.7039355615959108),\n",
       " ('Bernard TomicGrass', 0.6966280527386258),\n",
       " ('Yen Hsun LuGrass', 0.6833593467257887),\n",
       " ('Jan VacekGrass', 0.6810555149141265)]"
      ]
     },
     "execution_count": 95,
     "metadata": {},
     "output_type": "execute_result"
    }
   ],
   "source": [
    "sorted(grass_dict.items(), key=lambda x: x[1], reverse=True)[:25]"
   ]
  },
  {
   "cell_type": "code",
   "execution_count": 96,
   "id": "5a6d44c8",
   "metadata": {},
   "outputs": [],
   "source": [
    "hard_players = [x for x in top_players.keys() if x.endswith('Hard')]\n",
    "hard_dict = dict()\n",
    "\n",
    "for p, r in small_dict.items():\n",
    "    if p in hard_players:\n",
    "        hard_dict[p] = list(r[1])[0] "
   ]
  },
  {
   "cell_type": "code",
   "execution_count": 97,
   "id": "823f7015",
   "metadata": {},
   "outputs": [
    {
     "data": {
      "text/plain": [
       "[('Vasek PospisilHard', 1.1877398803980928),\n",
       " ('James BlakeHard', 1.1804889157417129),\n",
       " ('Bradley KlahnHard', 1.1783713766065067),\n",
       " ('Jan Michael GambillHard', 1.0992895468054245),\n",
       " ('Alex Bogomolov JrHard', 1.0975890290086536),\n",
       " ('Michael RussellHard', 1.0861680146939454),\n",
       " ('Pablo Vivero GonzalezHard', 1.0861146769901153),\n",
       " ('Andres Artunedo MartinavarroHard', 1.0825509962922761),\n",
       " ('Danai UdomchokeHard', 1.0712780341100079),\n",
       " ('Bjorn PhauHard', 1.0663995153664902),\n",
       " ('Ricardas BerankisHard', 1.0194312385107114),\n",
       " ('Donald YoungHard', 1.0165654844777523),\n",
       " ('Yu Jr WangHard', 1.00611966292732),\n",
       " ('Gilles SimonHard', 1.0007019073044348),\n",
       " ('Lloyd HarrisHard', 0.9989057720158684),\n",
       " ('Cem IlkelHard', 0.9926418864883028),\n",
       " ('Tim SmyczekHard', 0.9779132314157563),\n",
       " ('Emil RuusuvuoriHard', 0.9736093334852436),\n",
       " ('Peng SunHard', 0.9695940196640503),\n",
       " ('Andre AgassiHard', 0.9644578489846389),\n",
       " ('Gael MonfilsHard', 0.95583861568909),\n",
       " ('David GuezHard', 0.9470721905181229),\n",
       " ('Andy RoddickHard', 0.9421962995288263),\n",
       " ('Pete SamprasHard', 0.9397003706251729),\n",
       " ('Illya MarchenkoHard', 0.9378651612926475)]"
      ]
     },
     "execution_count": 97,
     "metadata": {},
     "output_type": "execute_result"
    }
   ],
   "source": [
    "sorted(hard_dict.items(), key=lambda x: x[1], reverse=True)[:25]"
   ]
  },
  {
   "cell_type": "code",
   "execution_count": 43,
   "id": "dbd1a79d",
   "metadata": {},
   "outputs": [],
   "source": [
    "with open('mens_big_dict.pickle', 'wb') as file:\n",
    "    pickle.dump(ts_dict, file, protocol=pickle.HIGHEST_PROTOCOL)"
   ]
  },
  {
   "cell_type": "code",
   "execution_count": 44,
   "id": "bb3f411a",
   "metadata": {},
   "outputs": [],
   "source": [
    "with open('mens_small_dict.pickle', 'wb') as fileb:\n",
    "    pickle.dump(small_dict, fileb, protocol=pickle.HIGHEST_PROTOCOL)"
   ]
  }
 ],
 "metadata": {
  "kernelspec": {
   "display_name": "Python 3 (ipykernel)",
   "language": "python",
   "name": "python3"
  },
  "language_info": {
   "codemirror_mode": {
    "name": "ipython",
    "version": 3
   },
   "file_extension": ".py",
   "mimetype": "text/x-python",
   "name": "python",
   "nbconvert_exporter": "python",
   "pygments_lexer": "ipython3",
   "version": "3.9.16"
  }
 },
 "nbformat": 4,
 "nbformat_minor": 5
}
