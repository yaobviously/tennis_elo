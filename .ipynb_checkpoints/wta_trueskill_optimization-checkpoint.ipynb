{
 "cells": [
  {
   "cell_type": "code",
   "execution_count": 1,
   "id": "cfd4ff08",
   "metadata": {},
   "outputs": [],
   "source": [
    "import os\n",
    "import pandas as pd\n",
    "import numpy as np\n",
    "import pickle\n",
    "\n",
    "from scipy.optimize import minimize\n",
    "from trueskillthroughtime import Game, Player, History, Gaussian\n",
    "from utils import load_wta_data"
   ]
  },
  {
   "cell_type": "code",
   "execution_count": 2,
   "id": "bb4d6f30",
   "metadata": {},
   "outputs": [
    {
     "name": "stdout",
     "output_type": "stream",
     "text": [
      "shape before dropping match dupes: (456418, 54)\n",
      "shape after dropping match dupes: (455283, 54)\n"
     ]
    }
   ],
   "source": [
    "df = load_wta_data()"
   ]
  },
  {
   "cell_type": "code",
   "execution_count": 7,
   "id": "25fe2dea",
   "metadata": {},
   "outputs": [],
   "source": [
    "# extracting the only two columns that matter\n",
    "columns = zip(df.winner_name, df.loser_name, df.surface)\n",
    "\n",
    "# structuring the data to include a generic player plus \n",
    "# a surface specific player. we treat them as a team.\n",
    "composition = [[[winner, winner + surface], [loser, loser + surface]]\n",
    "               for winner, loser, surface in columns]\n",
    "\n",
    "# initializing a dictionary for every player in the dataset\n",
    "all_wta_players = set([val for sublist in zip(df.winner_name, df.loser_name) for val in sublist])\n",
    "\n",
    "# assigning prior ratings. they're identical for all players, but they needn't be\n",
    "# this is identical to, say, starting each player off with 1500 in Elo except\n",
    "# TrueSkill includes several other parameters\n",
    "priors = dict([(p, Player(Gaussian(0., 1.51), 1.5, 0.098) ) for p in all_wta_players])\n",
    "\n",
    "# running the TrueSkill algorithm on the dataset\n",
    "true_skill_history_priors = History(composition=composition,\n",
    "                                    priors=priors,\n",
    "                                    beta=0,\n",
    "                                    sigma=0.5,\n",
    "                                    gamma=0.01)\n",
    "\n",
    "# printing the log evidence of obtaining this sequence of wins and losses \n",
    "# given the current sequences of player skill\n",
    "\n",
    "true_skill_history_priors.log_evidence() # initial results with 0, 1.51, 1.5, 0.098"
   ]
  },
  {
   "cell_type": "code",
   "execution_count": 16,
   "id": "2543cf91",
   "metadata": {},
   "outputs": [],
   "source": [
    "def training(x):\n",
    "    \n",
    "    \"a simple function to minimize with scipy.minimize\"\n",
    "    \n",
    "    a, b, c = x\n",
    "    \n",
    "    priors = dict([(p, Player(Gaussian(0, a), b, c)) for p in all_wta_players])\n",
    "    \n",
    "    true_skill_history_priors = History(composition=composition,\n",
    "                                    priors=priors,\n",
    "                                    beta=0,\n",
    "                                    sigma=0.5,\n",
    "                                    gamma=0.01)\n",
    "    \n",
    "    log_ev = true_skill_history_priors.log_evidence()\n",
    "    \n",
    "    return -1 * log_ev  "
   ]
  },
  {
   "cell_type": "code",
   "execution_count": 17,
   "id": "637dd720",
   "metadata": {},
   "outputs": [],
   "source": [
    "# selecting the initial parameters and defining their min/max possible values\n",
    "to_start = [1.5, 1.5, 0.1]\n",
    "\n",
    "bounds = ((1.3, 1.8), (1.3, 1.8), (0.08, 0.12))\n",
    "\n",
    "result = minimize(training, to_start, bounds=bounds, method='SLSQP')\n",
    "\n",
    "print(result)"
   ]
  },
  {
   "cell_type": "code",
   "execution_count": 39,
   "id": "85cac153",
   "metadata": {},
   "outputs": [
    {
     "name": "stdout",
     "output_type": "stream",
     "text": [
      "Iteration =  0 , step =  (3.7638065299271775, 0.9568087274906079)\n",
      "Iteration =  1 , step =  (0.5992915591564723, 0.04234960836586121)\n",
      "Iteration =  2 , step =  (0.3750498157579929, 0.014743538780252585)\n",
      "Iteration =  3 , step =  (0.27690898982839673, 0.010851022039432667)\n",
      "Iteration =  4 , step =  (0.23299169677792353, 0.009073882388377585)\n",
      "Iteration =  5 , step =  (0.20274338728320362, 0.007937127428417012)\n",
      "Iteration =  6 , step =  (0.1811644466948925, 0.006970466322375524)\n",
      "Iteration =  7 , step =  (0.16183371420684978, 0.006148849143449153)\n",
      "Iteration =  8 , step =  (0.14468375524345944, 0.0054461237981418)\n",
      "Iteration =  9 , step =  (0.12951581360599285, 0.0048408627363858425)\n",
      "End\n"
     ]
    },
    {
     "data": {
      "text/plain": [
       "((0.12951581360599285, 0.0048408627363858425), 10)"
      ]
     },
     "execution_count": 39,
     "metadata": {},
     "output_type": "execute_result"
    }
   ],
   "source": [
    "# now running the TrueSkillThroughTime algorithm\n",
    "true_skill_history_priors.convergence(epsilon=0.01, iterations=10)\n",
    "\n",
    "# printing the log evidence after optimization\n",
    "print(true_skill_history_priors.log_evidence())"
   ]
  },
  {
   "cell_type": "code",
   "execution_count": 20,
   "id": "3f608137",
   "metadata": {},
   "outputs": [],
   "source": [
    "ts_dict = true_skill_history_priors.learning_curves()"
   ]
  },
  {
   "cell_type": "code",
   "execution_count": 21,
   "id": "4c3017a3",
   "metadata": {},
   "outputs": [],
   "source": [
    "small_dict = dict()\n",
    "\n",
    "for key in ts_dict.keys():\n",
    "    small_dict[key] = ts_dict[key][-1]"
   ]
  }
 ],
 "metadata": {
  "kernelspec": {
   "display_name": "Python 3 (ipykernel)",
   "language": "python",
   "name": "python3"
  },
  "language_info": {
   "codemirror_mode": {
    "name": "ipython",
    "version": 3
   },
   "file_extension": ".py",
   "mimetype": "text/x-python",
   "name": "python",
   "nbconvert_exporter": "python",
   "pygments_lexer": "ipython3",
   "version": "3.9.16"
  }
 },
 "nbformat": 4,
 "nbformat_minor": 5
}
