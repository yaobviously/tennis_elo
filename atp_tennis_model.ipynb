{
 "cells": [
  {
   "cell_type": "code",
   "execution_count": 1,
   "id": "89e7a733",
   "metadata": {},
   "outputs": [],
   "source": [
    "import os\n",
    "import re\n",
    "\n",
    "import pandas as pd\n",
    "import numpy as np\n",
    "import matplotlib.pyplot as plt\n",
    "import seaborn as sns\n",
    "\n",
    "from sklearn.preprocessing import KBinsDiscretizer\n",
    "from sklearn.mixture import GaussianMixture\n",
    "from sklearn.model_selection import TimeSeriesSplit, GridSearchCV\n",
    "from sklearn.ensemble import GradientBoostingClassifier, HistGradientBoostingClassifier\n",
    "from sklearn.metrics import brier_score_loss, accuracy_score\n",
    "from sklearn.calibration import calibration_curve, CalibrationDisplay, CalibratedClassifierCV\n",
    "\n",
    "from xgboost import XGBClassifier\n",
    "\n",
    "from utils import elo_predict, fiveodds, last_with_nan, MatchElo, SetsElo, get_player_points, load_atp_data"
   ]
  },
  {
   "cell_type": "code",
   "execution_count": 2,
   "id": "f5b3bda1",
   "metadata": {},
   "outputs": [
    {
     "name": "stdout",
     "output_type": "stream",
     "text": [
      "shape before dropping match dupes: (583792, 75)\n",
      "shape after dropping match dupes: (583731, 75)\n"
     ]
    }
   ],
   "source": [
    "df = load_atp_data()"
   ]
  },
  {
   "cell_type": "code",
   "execution_count": 146,
   "id": "d840796e",
   "metadata": {},
   "outputs": [
    {
     "name": "stdout",
     "output_type": "stream",
     "text": [
      "elo ratings processed successfully\n",
      "elo ratings processed successfully\n",
      "elo ratings processed successfully\n",
      "elo ratings processed successfully\n",
      "elo ratings processed successfully\n"
     ]
    }
   ],
   "source": [
    "# computing generic ELO-implied win probabilities\n",
    "\n",
    "generic_elo = MatchElo(df).process_elo()\n",
    "\n",
    "df['generic_winner_prob'] = generic_elo.winner_probs\n",
    "df['generic_winner_elo' ] = generic_elo.winner_elo\n",
    "df['generic_loser_elo'] = generic_elo.loser_elo\n",
    "\n",
    "# creating dataframes for each surface\n",
    "\n",
    "hard_df = df[df['surface'] == 'Hard'].copy()\n",
    "clay_df = df[df['surface'] == 'Clay'].copy()\n",
    "grass_df = df[df['surface'] == 'Grass'].copy()\n",
    "carpet_df = df[df['surface'] == 'Carpet'].copy()\n",
    "\n",
    "hard_elo = MatchElo(hard_df, base_k=56).process_elo()\n",
    "clay_elo = MatchElo(clay_df, base_k=60).process_elo()\n",
    "grass_elo = MatchElo(grass_df, base_k=54).process_elo()\n",
    "carpet_elo = MatchElo(carpet_df, base_k=49).process_elo()\n",
    "\n",
    "# calculating surface elo and adding win probabilities to the df\n",
    "hard_df['surface_winner_prob'] = hard_elo.winner_probs\n",
    "clay_df['surface_winner_prob'] = clay_elo.winner_probs\n",
    "grass_df['surface_winner_prob'] = grass_elo.winner_probs\n",
    "carpet_df['surface_winner_prob'] = carpet_elo.winner_probs\n",
    "\n",
    "# adding elo ratings to the dataframe\n",
    "hard_df['surface_winner_elo'] = hard_elo.winner_elo\n",
    "clay_df['surface_winner_elo'] = clay_elo.winner_elo\n",
    "grass_df['surface_winner_elo'] = grass_elo.winner_elo\n",
    "carpet_df['surface_winner_elo'] = carpet_elo.winner_elo\n",
    "\n",
    "# adding elo ratings to the dataframe\n",
    "hard_df['surface_loser_elo'] = hard_elo.loser_elo\n",
    "clay_df['surface_loser_elo'] = clay_elo.loser_elo\n",
    "grass_df['surface_loser_elo'] = grass_elo.loser_elo\n",
    "carpet_df['surface_loser_elo'] = carpet_elo.loser_elo"
   ]
  },
  {
   "cell_type": "code",
   "execution_count": 147,
   "id": "5079bd03",
   "metadata": {},
   "outputs": [
    {
     "name": "stdout",
     "output_type": "stream",
     "text": [
      "583731 True\n"
     ]
    }
   ],
   "source": [
    "# recombining the surface dataframes - there is a more efficient way \n",
    "# to do all of this\n",
    "\n",
    "combined_df = (\n",
    "    pd.concat(\n",
    "        [hard_df, clay_df, grass_df, carpet_df])\n",
    "    .sort_values(by=['tourney_date', 'tourney_id', 'round'],\n",
    "                 ascending=[True, True, True])\n",
    "    .reset_index(drop=True)\n",
    ")\n",
    "\n",
    "print(combined_df.shape[0], combined_df.shape[0] == df.shape[0])"
   ]
  },
  {
   "cell_type": "code",
   "execution_count": 148,
   "id": "94a26f0d",
   "metadata": {},
   "outputs": [
    {
     "name": "stdout",
     "output_type": "stream",
     "text": [
      "elo ratings processed successfully\n",
      "elo ratings processed successfully\n"
     ]
    }
   ],
   "source": [
    "s_level_df = combined_df[combined_df['tourney_level'].isin(['S', '15', '25'])].copy()\n",
    "a_level_df = combined_df[~combined_df['tourney_level'].isin(['S', '15', '25'])].copy()\n",
    "\n",
    "s_level_elo = MatchElo(s_level_df, base_k=61).process_elo()\n",
    "a_level_elo = MatchElo(a_level_df, base_k=39).process_elo()\n",
    "\n",
    "s_level_df['tier_winner_elo'] = s_level_elo.winner_elo\n",
    "s_level_df['tier_loser_elo'] = s_level_elo.loser_elo\n",
    "a_level_df['tier_winner_elo'] = a_level_elo.winner_elo\n",
    "a_level_df['tier_loser_elo'] = a_level_elo.loser_elo"
   ]
  },
  {
   "cell_type": "code",
   "execution_count": 149,
   "id": "7b726138",
   "metadata": {},
   "outputs": [],
   "source": [
    "combined_df = (\n",
    "    pd.concat(\n",
    "        [s_level_df, a_level_df])\n",
    "    .sort_values(by=['tourney_date', 'tourney_id', 'round'],\n",
    "                 ascending=[True, True, True])\n",
    "    .reset_index(drop=True)\n",
    ")"
   ]
  },
  {
   "cell_type": "code",
   "execution_count": 151,
   "id": "70e64fb9",
   "metadata": {},
   "outputs": [],
   "source": [
    "# using randomization to create new columns player_one and player_two\n",
    "# to build a model\n",
    "\n",
    "player_pairs = combined_df[['winner_name', 'loser_name']].values\n",
    "idx = np.random.randint(0, player_pairs.shape[1], player_pairs.shape[0])\n",
    "\n",
    "combined_df['player_one'] = [x[0] for x in np.take_along_axis(player_pairs, idx[:, None], 1)]\n",
    "combined_df['player_two'] = np.where(combined_df['winner_name'] == combined_df['player_one'],\n",
    "                            combined_df['loser_name'],\n",
    "                            combined_df['winner_name'])\n",
    "\n",
    "combined_df['player_one_win'] = (\n",
    "    np.where(combined_df['winner_name'] == combined_df['player_one'], 1, 0)\n",
    ")\n",
    "\n",
    "combined_df['generic_player1_prob'] = (\n",
    "    np.where(combined_df['winner_name'] == combined_df['player_one'],\n",
    "             combined_df['generic_winner_prob'],\n",
    "             1 - combined_df['generic_winner_prob']))\n",
    "\n",
    "combined_df['surface_player1_prob'] = (\n",
    "    np.where(combined_df['winner_name'] == combined_df['player_one'],\n",
    "             combined_df['surface_winner_prob'],\n",
    "             1 - combined_df['surface_winner_prob'])\n",
    ")\n",
    "\n",
    "combined_df['player_one_elo'] = (\n",
    "    np.where(combined_df['winner_name'] == combined_df['player_one'],\n",
    "             combined_df['generic_winner_elo'],\n",
    "             combined_df['generic_loser_elo'])\n",
    ")\n",
    "\n",
    "combined_df['player_two_elo'] = (\n",
    "    np.where(combined_df['winner_name'] == combined_df['player_two'],\n",
    "             combined_df['generic_winner_elo'],\n",
    "             combined_df['generic_loser_elo'])\n",
    ")\n",
    "\n",
    "combined_df['player_one_surface_elo'] = (\n",
    "    np.where(combined_df['winner_name'] == combined_df['player_one'],\n",
    "             combined_df['surface_winner_elo'],\n",
    "             combined_df['surface_loser_elo'])\n",
    ")\n",
    "\n",
    "combined_df['player_two_surface_elo'] = (\n",
    "    np.where(combined_df['winner_name'] == combined_df['player_two'],\n",
    "             combined_df['surface_winner_elo'],\n",
    "             combined_df['surface_loser_elo'])\n",
    ")\n",
    "\n",
    "combined_df['player_one_tier_elo'] = (\n",
    "    np.where(combined_df['winner_name'] == combined_df['player_one'],\n",
    "             combined_df['tier_winner_elo'],\n",
    "             combined_df['tier_loser_elo'])\n",
    ")\n",
    "\n",
    "combined_df['player_two_tier_elo'] = (\n",
    "    np.where(combined_df['winner_name'] == combined_df['player_two'],\n",
    "             combined_df['tier_winner_elo'],\n",
    "             combined_df['tier_loser_elo'])\n",
    ")"
   ]
  },
  {
   "cell_type": "code",
   "execution_count": 152,
   "id": "69316997",
   "metadata": {},
   "outputs": [],
   "source": [
    "games_played = (\n",
    "    pd.concat([combined_df['player_one'], combined_df['player_two']], axis=0)\n",
    "    .sort_index()\n",
    "    .to_frame()\n",
    "    .rename(columns={0:'name'})\n",
    ")\n",
    "\n",
    "games_played['matches_played'] = games_played.groupby('name').cumcount() + 1\n",
    "\n",
    "games_played = (\n",
    "    games_played\n",
    "    .groupby(games_played.index)\n",
    "    .agg({'name' : ['first', 'last'],\n",
    "          'matches_played' : ['first', 'last']})\n",
    "    .set_axis(['first_name', 'last_name', 'first_mp', 'last_mp'], axis=1)\n",
    ")"
   ]
  },
  {
   "cell_type": "code",
   "execution_count": 153,
   "id": "efa2c265",
   "metadata": {},
   "outputs": [],
   "source": [
    "model_df = combined_df.join(games_played, how='left', validate='one_to_one')\n",
    "\n",
    "\n",
    "model_df['player_one_mp'] = (\n",
    "    np.where(model_df['player_one'] == model_df['first_name'],\n",
    "             model_df['first_mp'],\n",
    "          model_df['last_mp'])\n",
    ")\n",
    "\n",
    "model_df['player_two_mp'] = (\n",
    "    np.where(model_df['player_two'] == model_df['last_name'],\n",
    "             model_df['last_mp'],\n",
    "             model_df['first_mp'])\n",
    ")"
   ]
  },
  {
   "cell_type": "code",
   "execution_count": 154,
   "id": "b6575b40",
   "metadata": {},
   "outputs": [],
   "source": [
    "hand_code = {'R' : 0, 'L' : 1, 'U': 2, 'A' : 3}\n",
    "\n",
    "hand_dict = model_df.groupby('loser_name')['loser_hand'].last().to_dict()\n",
    "\n",
    "model_df['player_one_hand'] = model_df['player_one'].map(hand_dict).fillna('U').map(hand_code)\n",
    "model_df['player_two_hand'] = model_df['player_two'].map(hand_dict).fillna('U').map(hand_code)"
   ]
  },
  {
   "cell_type": "code",
   "execution_count": 155,
   "id": "c37e22b2",
   "metadata": {},
   "outputs": [],
   "source": [
    "model_df['player_one_age'] = (\n",
    "    np.where(model_df['winner_name'] == model_df['player_one'],\n",
    "             model_df['winner_age'],\n",
    "             model_df['loser_age']) \n",
    ")\n",
    "\n",
    "model_df['player_two_age'] = (\n",
    "    np.where(model_df['winner_name'] == model_df['player_two'],\n",
    "             model_df['winner_age'],\n",
    "             model_df['loser_age']) \n",
    ")\n",
    "\n",
    "model_df['player_one_age'].fillna(-10, inplace=True)\n",
    "model_df['player_two_age'].fillna(-10, inplace=True)"
   ]
  },
  {
   "cell_type": "code",
   "execution_count": 156,
   "id": "1a151039",
   "metadata": {},
   "outputs": [],
   "source": [
    "### filter out all matches where one player has fwer than 5 games\n",
    "\n",
    "condition = ((model_df['player_one_mp'] < 5) | (model_df['player_two_mp'] < 5))\n",
    "\n",
    "model_df = model_df[~condition].copy()\n",
    "model_df.reset_index(inplace=True, drop=True)\n",
    "\n",
    "# filtering to only meaningful tourneys\n",
    "\n",
    "# model_df = model_df[model_df['tourney_level'].isin(['G', 'M', 'A', 'C'])].copy()\n",
    "# model_df['tourney_level'] = model_df['tourney_level'].map({'C' : 0, 'A' : 1, 'M' : 2, 'G' : 3})\n",
    "\n",
    "model_df.reset_index(inplace=True, drop=True)"
   ]
  },
  {
   "cell_type": "code",
   "execution_count": 157,
   "id": "d48ab5b7",
   "metadata": {},
   "outputs": [],
   "source": [
    "combined_df.drop(combined_df.columns[[89, 90]], axis=1, inplace=True)"
   ]
  },
  {
   "cell_type": "code",
   "execution_count": 201,
   "id": "153562de",
   "metadata": {},
   "outputs": [],
   "source": [
    "model_df['tier_elo_prob'] = [elo_predict(x, y) for x, y in zip(model_df.player_one_tier_elo, model_df.player_two_tier_elo)]"
   ]
  },
  {
   "cell_type": "code",
   "execution_count": 202,
   "id": "b16c97ad",
   "metadata": {},
   "outputs": [
    {
     "name": "stdout",
     "output_type": "stream",
     "text": [
      "hgbm brier score loss: 0.2094615081943244\n",
      "generic score: 0.21307433466921008\n",
      "surface score: 0.21721351985501958\n"
     ]
    }
   ],
   "source": [
    "model_cols = ['generic_player1_prob', 'surface_player1_prob', 'player_one_mp', 'player_two_mp',\n",
    "              'player_one_age', 'player_two_age', 'tier_elo_prob']\n",
    "\n",
    "X = model_df[model_cols].copy()\n",
    "y = model_df['player_one_win'].values\n",
    "\n",
    "training_date = '2020-01-01'\n",
    "training_max_index = model_df[model_df['tourney_date'] <= training_date].index.max()\n",
    "\n",
    "X_train, X_test = X[:training_max_index].copy(), X[training_max_index:].copy()\n",
    "y_train, y_test = y[:training_max_index].copy(), y[training_max_index:].copy()\n",
    "\n",
    "model_params = {\n",
    "    'max_depth' : [3, 4, 5],\n",
    "    'n_estimators' : [50, 60, 70],\n",
    "    'min_child_weight' : [0.3, 1, 5]\n",
    "}\n",
    "\n",
    "gbm = GradientBoostingClassifier()\n",
    "xgb = XGBClassifier(max_depth=3, n_estimators=70, min_child_weight=5)\n",
    "\n",
    "gridsearch = GridSearchCV(estimator=xgb, cv=5, param_grid=model_params, n_jobs=-1)\n",
    "\n",
    "xgb.fit(X_train, y_train)\n",
    "\n",
    "# print(\"gbm brier score loss:\", brier_score_loss(y_test, gbm.predict_proba(X_test)[:,1]))\n",
    "print(\"hgbm brier score loss:\", brier_score_loss(y_test, xgb.predict_proba(X_test)[:,1]))\n",
    "print(\"generic score:\", brier_score_loss(y_test, X_test['generic_player1_prob']))\n",
    "print(\"surface score:\", brier_score_loss(y_test, X_test['surface_player1_prob']))"
   ]
  },
  {
   "cell_type": "code",
   "execution_count": 203,
   "id": "03c1e28e",
   "metadata": {},
   "outputs": [],
   "source": [
    "from sklearn.inspection import permutation_importance\n",
    "\n",
    "permutation_result = permutation_importance(xgb,\n",
    "                                            X_train,\n",
    "                                            y_train,\n",
    "                                            scoring=['neg_brier_score', 'neg_log_loss'],\n",
    "                                            n_jobs=-1\n",
    "                                           )"
   ]
  },
  {
   "cell_type": "code",
   "execution_count": 205,
   "id": "946d14e3",
   "metadata": {},
   "outputs": [
    {
     "data": {
      "text/html": [
       "<style>#sk-container-id-5 {color: black;background-color: white;}#sk-container-id-5 pre{padding: 0;}#sk-container-id-5 div.sk-toggleable {background-color: white;}#sk-container-id-5 label.sk-toggleable__label {cursor: pointer;display: block;width: 100%;margin-bottom: 0;padding: 0.3em;box-sizing: border-box;text-align: center;}#sk-container-id-5 label.sk-toggleable__label-arrow:before {content: \"▸\";float: left;margin-right: 0.25em;color: #696969;}#sk-container-id-5 label.sk-toggleable__label-arrow:hover:before {color: black;}#sk-container-id-5 div.sk-estimator:hover label.sk-toggleable__label-arrow:before {color: black;}#sk-container-id-5 div.sk-toggleable__content {max-height: 0;max-width: 0;overflow: hidden;text-align: left;background-color: #f0f8ff;}#sk-container-id-5 div.sk-toggleable__content pre {margin: 0.2em;color: black;border-radius: 0.25em;background-color: #f0f8ff;}#sk-container-id-5 input.sk-toggleable__control:checked~div.sk-toggleable__content {max-height: 200px;max-width: 100%;overflow: auto;}#sk-container-id-5 input.sk-toggleable__control:checked~label.sk-toggleable__label-arrow:before {content: \"▾\";}#sk-container-id-5 div.sk-estimator input.sk-toggleable__control:checked~label.sk-toggleable__label {background-color: #d4ebff;}#sk-container-id-5 div.sk-label input.sk-toggleable__control:checked~label.sk-toggleable__label {background-color: #d4ebff;}#sk-container-id-5 input.sk-hidden--visually {border: 0;clip: rect(1px 1px 1px 1px);clip: rect(1px, 1px, 1px, 1px);height: 1px;margin: -1px;overflow: hidden;padding: 0;position: absolute;width: 1px;}#sk-container-id-5 div.sk-estimator {font-family: monospace;background-color: #f0f8ff;border: 1px dotted black;border-radius: 0.25em;box-sizing: border-box;margin-bottom: 0.5em;}#sk-container-id-5 div.sk-estimator:hover {background-color: #d4ebff;}#sk-container-id-5 div.sk-parallel-item::after {content: \"\";width: 100%;border-bottom: 1px solid gray;flex-grow: 1;}#sk-container-id-5 div.sk-label:hover label.sk-toggleable__label {background-color: #d4ebff;}#sk-container-id-5 div.sk-serial::before {content: \"\";position: absolute;border-left: 1px solid gray;box-sizing: border-box;top: 0;bottom: 0;left: 50%;z-index: 0;}#sk-container-id-5 div.sk-serial {display: flex;flex-direction: column;align-items: center;background-color: white;padding-right: 0.2em;padding-left: 0.2em;position: relative;}#sk-container-id-5 div.sk-item {position: relative;z-index: 1;}#sk-container-id-5 div.sk-parallel {display: flex;align-items: stretch;justify-content: center;background-color: white;position: relative;}#sk-container-id-5 div.sk-item::before, #sk-container-id-5 div.sk-parallel-item::before {content: \"\";position: absolute;border-left: 1px solid gray;box-sizing: border-box;top: 0;bottom: 0;left: 50%;z-index: -1;}#sk-container-id-5 div.sk-parallel-item {display: flex;flex-direction: column;z-index: 1;position: relative;background-color: white;}#sk-container-id-5 div.sk-parallel-item:first-child::after {align-self: flex-end;width: 50%;}#sk-container-id-5 div.sk-parallel-item:last-child::after {align-self: flex-start;width: 50%;}#sk-container-id-5 div.sk-parallel-item:only-child::after {width: 0;}#sk-container-id-5 div.sk-dashed-wrapped {border: 1px dashed gray;margin: 0 0.4em 0.5em 0.4em;box-sizing: border-box;padding-bottom: 0.4em;background-color: white;}#sk-container-id-5 div.sk-label label {font-family: monospace;font-weight: bold;display: inline-block;line-height: 1.2em;}#sk-container-id-5 div.sk-label-container {text-align: center;}#sk-container-id-5 div.sk-container {/* jupyter's `normalize.less` sets `[hidden] { display: none; }` but bootstrap.min.css set `[hidden] { display: none !important; }` so we also need the `!important` here to be able to override the default hidden behavior on the sphinx rendered scikit-learn.org. See: https://github.com/scikit-learn/scikit-learn/issues/21755 */display: inline-block !important;position: relative;}#sk-container-id-5 div.sk-text-repr-fallback {display: none;}</style><div id=\"sk-container-id-5\" class=\"sk-top-container\"><div class=\"sk-text-repr-fallback\"><pre>LogisticRegression()</pre><b>In a Jupyter environment, please rerun this cell to show the HTML representation or trust the notebook. <br />On GitHub, the HTML representation is unable to render, please try loading this page with nbviewer.org.</b></div><div class=\"sk-container\" hidden><div class=\"sk-item\"><div class=\"sk-estimator sk-toggleable\"><input class=\"sk-toggleable__control sk-hidden--visually\" id=\"sk-estimator-id-7\" type=\"checkbox\" checked><label for=\"sk-estimator-id-7\" class=\"sk-toggleable__label sk-toggleable__label-arrow\">LogisticRegression</label><div class=\"sk-toggleable__content\"><pre>LogisticRegression()</pre></div></div></div></div></div>"
      ],
      "text/plain": [
       "LogisticRegression()"
      ]
     },
     "execution_count": 205,
     "metadata": {},
     "output_type": "execute_result"
    }
   ],
   "source": [
    "from sklearn.linear_model import LogisticRegression\n",
    "from sklearn.preprocessing import StandardScaler, RobustScaler\n",
    "\n",
    "linear_model_cols = ['generic_player1_prob', 'surface_player1_prob', 'tier_elo_prob']\n",
    "\n",
    "scaler = StandardScaler().set_output(transform=\"pandas\")\n",
    "lin_model = LogisticRegression()\n",
    "\n",
    "X_lin = model_df[linear_model_cols].copy()\n",
    "X_lin = scaler.fit_transform(X_lin)\n",
    "\n",
    "y = model_df['player_one_win'].values\n",
    "\n",
    "lin_X_train, lin_X_test = X_lin[:training_max_index].copy(), X_lin[training_max_index:].copy()\n",
    "lin_y_train, lin_y_test = y[:training_max_index].copy(), y[training_max_index:].copy()\n",
    "\n",
    "lin_model.fit(lin_X_train, lin_y_train)"
   ]
  },
  {
   "cell_type": "code",
   "execution_count": 206,
   "id": "65dddaac",
   "metadata": {},
   "outputs": [
    {
     "data": {
      "text/plain": [
       "0.21163700544177727"
      ]
     },
     "execution_count": 206,
     "metadata": {},
     "output_type": "execute_result"
    }
   ],
   "source": [
    "brier_score_loss(y_test, lin_model.predict_proba(lin_X_test)[:,1])"
   ]
  },
  {
   "cell_type": "code",
   "execution_count": 210,
   "id": "73d4257b",
   "metadata": {},
   "outputs": [
    {
     "data": {
      "text/plain": [
       "<sklearn.calibration.CalibrationDisplay at 0x1cb9ba5cd60>"
      ]
     },
     "execution_count": 210,
     "metadata": {},
     "output_type": "execute_result"
    },
    {
     "data": {
      "image/png": "[encoded data removed]",
      "text/plain": [
       "<Figure size 640x480 with 1 Axes>"
      ]
     },
     "metadata": {},
     "output_type": "display_data"
    },
    {
     "data": {
      "image/png": "[encoded data removed]",
      "text/plain": [
       "<Figure size 640x480 with 1 Axes>"
      ]
     },
     "metadata": {},
     "output_type": "display_data"
    }
   ],
   "source": [
    "\n",
    "y_probs = xgb.predict_proba(X_test[model_cols])[:,1]\n",
    "y_probs_elo = lin_model.predict_proba(lin_X_test)[:,1]\n",
    "\n",
    "prob_true, prob_pred = calibration_curve(y_test, y_probs, n_bins=25)\n",
    "prob_true_lin, prob_pred_lin = calibration_curve(y_test, y_probs_elo, n_bins=25)\n",
    "\n",
    "disp = CalibrationDisplay(prob_true, prob_pred, y_probs)\n",
    "disp_lin = CalibrationDisplay(prob_true_lin, prob_pred_lin, y_probs_elo)\n",
    "\n",
    "disp.plot()\n",
    "disp_lin.plot()\n"
   ]
  },
  {
   "cell_type": "code",
   "execution_count": 216,
   "id": "e88e46a8",
   "metadata": {},
   "outputs": [],
   "source": [
    "idx =  model_df.loc[( model_df['player_one'] == 'Roger Federer')].index.values\n",
    "x_idx = X_test.index\n",
    "\n",
    "X_test['tourney_level'] =  model_df[model_df.index.isin(x_idx)]['tourney_level']\n",
    "X_test['model2_pred'] = xgb.predict_proba(X_test[model_cols])[:,1]\n",
    "X_test['pred_diff'] = X_test['model2_pred'].sub(X_test['generic_player1_prob'])\n",
    "\n",
    "X_test['result'] = y_test"
   ]
  },
  {
   "cell_type": "code",
   "execution_count": 217,
   "id": "835d0ff1",
   "metadata": {},
   "outputs": [
    {
     "data": {
      "text/plain": [
       "<Axes: >"
      ]
     },
     "execution_count": 217,
     "metadata": {},
     "output_type": "execute_result"
    },
    {
     "data": {
      "image/png": "[encoded data removed]",
      "text/plain": [
       "<Figure size 640x480 with 1 Axes>"
      ]
     },
     "metadata": {},
     "output_type": "display_data"
    }
   ],
   "source": [
    "X_test['model2_pred'].hist(bins=42)"
   ]
  },
  {
   "cell_type": "code",
   "execution_count": 218,
   "id": "b58fbf8d",
   "metadata": {},
   "outputs": [
    {
     "data": {
      "text/plain": [
       "<Axes: >"
      ]
     },
     "execution_count": 218,
     "metadata": {},
     "output_type": "execute_result"
    },
    {
     "data": {
      "image/png": "[encoded data removed]",
      "text/plain": [
       "<Figure size 640x480 with 1 Axes>"
      ]
     },
     "metadata": {},
     "output_type": "display_data"
    }
   ],
   "source": [
    "X_test['lin_model'] = lin_model.predict_proba(lin_X_test)[:,1]\n",
    "\n",
    "X_test['lin_model'].hist(bins=24)"
   ]
  }
 ],
 "metadata": {
  "kernelspec": {
   "display_name": "Python 3 (ipykernel)",
   "language": "python",
   "name": "python3"
  },
  "language_info": {
   "codemirror_mode": {
    "name": "ipython",
    "version": 3
   },
   "file_extension": ".py",
   "mimetype": "text/x-python",
   "name": "python",
   "nbconvert_exporter": "python",
   "pygments_lexer": "ipython3",
   "version": "3.9.16"
  }
 },
 "nbformat": 4,
 "nbformat_minor": 5
}
