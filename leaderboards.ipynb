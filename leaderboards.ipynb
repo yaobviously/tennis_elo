{
 "cells": [
  {
   "cell_type": "code",
   "execution_count": 1,
   "id": "d32fd2a4",
   "metadata": {},
   "outputs": [],
   "source": [
    "import pandas as pd\n",
    "import pickle\n",
    "\n",
    "from trueskillthroughtime import Player, Game, Gaussian"
   ]
  },
  {
   "cell_type": "code",
   "execution_count": 4,
   "id": "88c7ea7e",
   "metadata": {},
   "outputs": [],
   "source": [
    "with open('mens_small_dict.pickle', 'rb') as file:\n",
    "    atp_dict = pickle.load(file)"
   ]
  },
  {
   "cell_type": "code",
   "execution_count": 14,
   "id": "3989572e",
   "metadata": {},
   "outputs": [],
   "source": [
    "active_players = [key for key in atp_dict.keys() if atp_dict[key][0] >= 400000]\n",
    "\n",
    "active_dict = {k:v for k, v in atp_dict.items() if k in active_players}"
   ]
  },
  {
   "cell_type": "code",
   "execution_count": 16,
   "id": "b5b68c31",
   "metadata": {},
   "outputs": [],
   "source": [
    "top_players = dict()\n",
    "\n",
    "for player, rating in active_dict.items():\n",
    "    \n",
    "    top_players[player] = list(rating[1])[0]"
   ]
  },
  {
   "cell_type": "code",
   "execution_count": 17,
   "id": "415bcc96",
   "metadata": {},
   "outputs": [
    {
     "data": {
      "text/plain": [
       "[('Novak Djokovic', 9.509292328457263),\n",
       " ('Stefanos Tsitsipas', 8.05863450569515),\n",
       " ('Carlos Alcaraz', 7.810548685578588),\n",
       " ('Matteo Berrettini', 7.409349480897965),\n",
       " ('Nick Kyrgios', 7.355833432879157),\n",
       " ('Felix Auger Aliassime', 7.263768998763762),\n",
       " ('Rafael Nadal', 7.247723322309832),\n",
       " ('Roger Federer', 7.240572771088311),\n",
       " ('Alexander Zverev', 7.228031295002944),\n",
       " ('Holger Rune', 7.1704003353697034),\n",
       " ('Sebastian Korda', 7.080977180691128),\n",
       " ('Jannik Sinner', 7.032784838966317),\n",
       " ('Daniil Medvedev', 6.992698204347643),\n",
       " ('Juan Martin del Potro', 6.8494338266964006),\n",
       " ('Andrey Rublev', 6.819409104613637),\n",
       " ('Karen Khachanov', 6.775150393589515),\n",
       " ('Hubert Hurkacz', 6.64330921801929),\n",
       " ('Tommy Paul', 6.6360251008553695),\n",
       " ('Cameron Norrie', 6.634194216432694),\n",
       " ('Taylor Fritz', 6.631330644094866),\n",
       " ('Casper Ruud', 6.590211793907335),\n",
       " ('Alex De Minaur', 6.568319048090668),\n",
       " ('Frances Tiafoe', 6.523195332556452),\n",
       " ('Borna Coric', 6.29973581356405),\n",
       " ('Kei Nishikori', 6.26991916928277)]"
      ]
     },
     "execution_count": 17,
     "metadata": {},
     "output_type": "execute_result"
    }
   ],
   "source": [
    "sorted(top_players.items(), key=lambda x: x[1], reverse=True)[:25]"
   ]
  },
  {
   "cell_type": "code",
   "execution_count": null,
   "id": "b8135752",
   "metadata": {},
   "outputs": [],
   "source": []
  }
 ],
 "metadata": {
  "kernelspec": {
   "display_name": "Python 3 (ipykernel)",
   "language": "python",
   "name": "python3"
  },
  "language_info": {
   "codemirror_mode": {
    "name": "ipython",
    "version": 3
   },
   "file_extension": ".py",
   "mimetype": "text/x-python",
   "name": "python",
   "nbconvert_exporter": "python",
   "pygments_lexer": "ipython3",
   "version": "3.9.16"
  }
 },
 "nbformat": 4,
 "nbformat_minor": 5
}
