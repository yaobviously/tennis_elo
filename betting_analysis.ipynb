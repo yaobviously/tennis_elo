{
 "cells": [
  {
   "cell_type": "code",
   "execution_count": 1,
   "id": "9999aabb",
   "metadata": {},
   "outputs": [],
   "source": [
    "import os\n",
    "\n",
    "import pandas as pd\n",
    "import numpy as np\n",
    "\n",
    "from sklearn.metrics import brier_score_loss"
   ]
  },
  {
   "cell_type": "code",
   "execution_count": 2,
   "id": "ac27dd30",
   "metadata": {},
   "outputs": [
    {
     "name": "stderr",
     "output_type": "stream",
     "text": [
      "C:\\Users\\yaobv\\anaconda3\\envs\\tennis_app\\lib\\site-packages\\openpyxl\\worksheet\\_read_only.py:79: UserWarning: Unknown extension is not supported and will be removed\n",
      "  for idx, row in parser.parse():\n",
      "C:\\Users\\yaobv\\anaconda3\\envs\\tennis_app\\lib\\site-packages\\openpyxl\\worksheet\\_read_only.py:79: UserWarning: Unknown extension is not supported and will be removed\n",
      "  for idx, row in parser.parse():\n",
      "C:\\Users\\yaobv\\anaconda3\\envs\\tennis_app\\lib\\site-packages\\openpyxl\\worksheet\\_read_only.py:79: UserWarning: Unknown extension is not supported and will be removed\n",
      "  for idx, row in parser.parse():\n",
      "C:\\Users\\yaobv\\anaconda3\\envs\\tennis_app\\lib\\site-packages\\openpyxl\\worksheet\\_read_only.py:79: UserWarning: Unknown extension is not supported and will be removed\n",
      "  for idx, row in parser.parse():\n"
     ]
    }
   ],
   "source": [
    "betting_folder = \"C:/Users/yaobv/tennis_project/tennis_betting_data/\"\n",
    "\n",
    "betting_df = pd.DataFrame()\n",
    "\n",
    "for file in os.listdir(f'{betting_folder}'):\n",
    "    \n",
    "    if file.endswith('xlsx'):\n",
    "    \n",
    "        betting_df_ = pd.read_excel(f'{betting_folder}{file}')\n",
    "        betting_df = pd.concat([betting_df, betting_df_])\n",
    "\n",
    "betting_df.columns = betting_df.columns.str.lower()\n",
    "betting_df['avg_winner_pct'] = 1 / betting_df['avgw']\n",
    "betting_df['avg_loser_pct'] = 1 / betting_df['avgl']\n",
    "betting_df['max_win_pct'] = 1 / betting_df['maxw']\n",
    "betting_df['max_lose_pct'] = 1 / betting_df['maxl']\n",
    "\n",
    "betting_df.dropna(subset=['avg_winner_pct', 'avg_loser_pct'], inplace=True)"
   ]
  },
  {
   "cell_type": "code",
   "execution_count": 62,
   "id": "32c72a0a",
   "metadata": {},
   "outputs": [
    {
     "data": {
      "text/plain": [
       "<AxesSubplot: >"
      ]
     },
     "execution_count": 62,
     "metadata": {},
     "output_type": "execute_result"
    },
    {
     "data": {
      "image/png": "[encoded data removed]",
      "text/plain": [
       "<Figure size 640x480 with 1 Axes>"
      ]
     },
     "metadata": {},
     "output_type": "display_data"
    }
   ],
   "source": [
    "pd.concat([betting_df['avg_winner_pct'], betting_df['avg_loser_pct']]).hist(bins=24)"
   ]
  },
  {
   "cell_type": "code",
   "execution_count": 4,
   "id": "2caa63ff",
   "metadata": {},
   "outputs": [
    {
     "name": "stdout",
     "output_type": "stream",
     "text": [
      "the brier score of avg market price is: 0.1755\n",
      "the brier score of max market price is: 0.1983\n"
     ]
    }
   ],
   "source": [
    "print(\"the brier score of avg market price is:\",\n",
    "      brier_score_loss(len(betting_df) * [1], betting_df['avg_winner_pct'])\n",
    "      .round(4)\n",
    "     )\n",
    "\n",
    "print(\"the brier score of max market price is:\",\n",
    "      brier_score_loss(len(betting_df) * [1], betting_df['max_win_pct'])\n",
    "      .round(4)\n",
    "     )"
   ]
  }
 ],
 "metadata": {
  "kernelspec": {
   "display_name": "Python 3 (ipykernel)",
   "language": "python",
   "name": "python3"
  },
  "language_info": {
   "codemirror_mode": {
    "name": "ipython",
    "version": 3
   },
   "file_extension": ".py",
   "mimetype": "text/x-python",
   "name": "python",
   "nbconvert_exporter": "python",
   "pygments_lexer": "ipython3",
   "version": "3.9.16"
  }
 },
 "nbformat": 4,
 "nbformat_minor": 5
}
