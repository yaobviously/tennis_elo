{
 "cells": [
  {
   "cell_type": "code",
   "execution_count": 2,
   "id": "cfd4ff08",
   "metadata": {},
   "outputs": [],
   "source": [
    "import os\n",
    "import pandas as pd\n",
    "import numpy as np\n",
    "import pickle\n",
    "\n",
    "from scipy.optimize import minimize\n",
    "\n",
    "\n",
    "from trueskillthroughtime import Game, Player, History, Gaussian"
   ]
  },
  {
   "cell_type": "code",
   "execution_count": 6,
   "id": "119d5d38",
   "metadata": {},
   "outputs": [
    {
     "name": "stderr",
     "output_type": "stream",
     "text": [
      "C:\\Users\\yaobv\\AppData\\Local\\Temp\\ipykernel_23428\\3944759534.py:10: DtypeWarning: Columns (8,16) have mixed types. Specify dtype option on import or set low_memory=False.\n",
      "  df_ = pd.read_csv(f'{folder}/{file}')\n",
      "C:\\Users\\yaobv\\AppData\\Local\\Temp\\ipykernel_23428\\3944759534.py:10: DtypeWarning: Columns (8,16) have mixed types. Specify dtype option on import or set low_memory=False.\n",
      "  df_ = pd.read_csv(f'{folder}/{file}')\n",
      "C:\\Users\\yaobv\\AppData\\Local\\Temp\\ipykernel_23428\\3944759534.py:10: DtypeWarning: Columns (8,16) have mixed types. Specify dtype option on import or set low_memory=False.\n",
      "  df_ = pd.read_csv(f'{folder}/{file}')\n"
     ]
    },
    {
     "name": "stdout",
     "output_type": "stream",
     "text": [
      "shape before dropping match dupes: (455216, 54)\n",
      "shape after dropping match dupes: (454092, 54)\n"
     ]
    }
   ],
   "source": [
    "folder = \"C:/Users/yaobv/tennis_project/tennis_wta\"\n",
    "\n",
    "df = pd.DataFrame()\n",
    "\n",
    "for file in os.listdir(f'{folder}'):\n",
    "\n",
    "    if file.endswith('csv') and '20' in file and 'doubles' not in file and '1920' not in file:\n",
    "        \n",
    "        try:    \n",
    "            df_ = pd.read_csv(f'{folder}/{file}')\n",
    "            df = pd.concat([df, df_])\n",
    "            \n",
    "        except:\n",
    "            df_ = pd.read_csv(f'{folder}\\{file}', encoding='latin-1')\n",
    "            df = pd.concat([df, df_])\n",
    "\n",
    "\n",
    "df = df[df['winner_name'].apply(lambda x: isinstance(x, str))].copy()\n",
    "df = df[df['loser_name'].apply(lambda x: isinstance(x, str))].copy()\n",
    "df = df[~df['winner_name'].str.contains('Unknown')].copy()\n",
    "df = df[~df['loser_name'].str.contains('Unknown')].copy()\n",
    "df = df[df['winner_name'] != df['loser_name']].copy()\n",
    "\n",
    "df.sort_values(by=['tourney_date', 'tourney_id', 'round'],\n",
    "               ascending=[True, True, True],\n",
    "               inplace=True)\n",
    "\n",
    "print('shape before dropping match dupes:', df.shape)\n",
    "\n",
    "df.dropna(subset=['surface', 'winner_name', 'loser_name'],\n",
    "          inplace=True)\n",
    "\n",
    "df.drop_duplicates(subset=['winner_name', 'loser_name', 'tourney_id'],\n",
    "                   inplace=True)\n",
    "\n",
    "print('shape after dropping match dupes:', df.shape)\n",
    "\n",
    "df.reset_index(inplace=True, drop=True)"
   ]
  },
  {
   "cell_type": "code",
   "execution_count": 7,
   "id": "25fe2dea",
   "metadata": {},
   "outputs": [],
   "source": [
    "columns = zip(df.winner_name, df.loser_name, df.surface)\n",
    "\n",
    "composition = [[[winner, winner + surface], [loser, loser + surface]]\n",
    "               for winner, loser, surface in columns]"
   ]
  },
  {
   "cell_type": "code",
   "execution_count": 12,
   "id": "84536fdb",
   "metadata": {},
   "outputs": [],
   "source": [
    "all_wta_players = set([val for sublist in zip(df.winner_name, df.loser_name) for val in sublist])"
   ]
  },
  {
   "cell_type": "code",
   "execution_count": 13,
   "id": "45637f2e",
   "metadata": {},
   "outputs": [],
   "source": [
    "priors = dict([(p, Player(Gaussian(0., 1.51), 1.5, 0.098) ) for p in all_wta_players])"
   ]
  },
  {
   "cell_type": "code",
   "execution_count": 10,
   "id": "f31596cb",
   "metadata": {},
   "outputs": [],
   "source": [
    "true_skill_history_priors = History(composition=composition,\n",
    "                                    priors=priors,\n",
    "                                    beta=0,\n",
    "                                    sigma=0.5,\n",
    "                                    gamma=0.01)"
   ]
  },
  {
   "cell_type": "code",
   "execution_count": 11,
   "id": "bc276f73",
   "metadata": {},
   "outputs": [
    {
     "data": {
      "text/plain": [
       "-268809.15454599314"
      ]
     },
     "execution_count": 11,
     "metadata": {},
     "output_type": "execute_result"
    }
   ],
   "source": [
    "true_skill_history_priors.log_evidence() # initial results with 0, 1.51, 1.5, 0.098"
   ]
  },
  {
   "cell_type": "code",
   "execution_count": 16,
   "id": "2543cf91",
   "metadata": {},
   "outputs": [],
   "source": [
    "def training(x):\n",
    "    \n",
    "    a, b, c = x\n",
    "    \n",
    "    priors = dict([(p, Player(Gaussian(0, a), b, c)) for p in all_wta_players])\n",
    "    \n",
    "    true_skill_history_priors = History(composition=composition,\n",
    "                                    priors=priors,\n",
    "                                    beta=0,\n",
    "                                    sigma=0.5,\n",
    "                                    gamma=0.01)\n",
    "    \n",
    "    log_ev = true_skill_history_priors.log_evidence()\n",
    "    \n",
    "    return -1 * log_ev  "
   ]
  },
  {
   "cell_type": "code",
   "execution_count": 17,
   "id": "637dd720",
   "metadata": {},
   "outputs": [],
   "source": [
    "to_start = [1.5, 1.5, 0.1]\n",
    "\n",
    "bounds = ((1.3, 1.8), (1.3, 1.8), (0.08, 0.12))\n",
    "\n",
    "result = minimize(training, to_start, bounds=bounds, method='SLSQP')"
   ]
  },
  {
   "cell_type": "code",
   "execution_count": 18,
   "id": "a2c93480",
   "metadata": {},
   "outputs": [
    {
     "name": "stdout",
     "output_type": "stream",
     "text": [
      "     fun: 268697.5918395683\n",
      "     jac: array([  1547.52734375,   2240.4609375 , -47232.875     ])\n",
      " message: 'Optimization terminated successfully'\n",
      "    nfev: 4\n",
      "     nit: 5\n",
      "    njev: 1\n",
      "  status: 0\n",
      " success: True\n",
      "       x: array([1.5, 1.5, 0.1])\n"
     ]
    }
   ],
   "source": [
    "print(result)"
   ]
  },
  {
   "cell_type": "code",
   "execution_count": 39,
   "id": "85cac153",
   "metadata": {},
   "outputs": [
    {
     "name": "stdout",
     "output_type": "stream",
     "text": [
      "Iteration =  0 , step =  (3.7638065299271775, 0.9568087274906079)\n",
      "Iteration =  1 , step =  (0.5992915591564723, 0.04234960836586121)\n",
      "Iteration =  2 , step =  (0.3750498157579929, 0.014743538780252585)\n",
      "Iteration =  3 , step =  (0.27690898982839673, 0.010851022039432667)\n",
      "Iteration =  4 , step =  (0.23299169677792353, 0.009073882388377585)\n",
      "Iteration =  5 , step =  (0.20274338728320362, 0.007937127428417012)\n",
      "Iteration =  6 , step =  (0.1811644466948925, 0.006970466322375524)\n",
      "Iteration =  7 , step =  (0.16183371420684978, 0.006148849143449153)\n",
      "Iteration =  8 , step =  (0.14468375524345944, 0.0054461237981418)\n",
      "Iteration =  9 , step =  (0.12951581360599285, 0.0048408627363858425)\n",
      "End\n"
     ]
    },
    {
     "data": {
      "text/plain": [
       "((0.12951581360599285, 0.0048408627363858425), 10)"
      ]
     },
     "execution_count": 39,
     "metadata": {},
     "output_type": "execute_result"
    }
   ],
   "source": [
    "true_skill_history_priors.convergence(epsilon=0.01, iterations=10)"
   ]
  },
  {
   "cell_type": "code",
   "execution_count": 19,
   "id": "5e0da167",
   "metadata": {},
   "outputs": [
    {
     "data": {
      "text/plain": [
       "-268809.15454599314"
      ]
     },
     "execution_count": 19,
     "metadata": {},
     "output_type": "execute_result"
    }
   ],
   "source": [
    "true_skill_history_priors.log_evidence()"
   ]
  },
  {
   "cell_type": "code",
   "execution_count": 20,
   "id": "3f608137",
   "metadata": {},
   "outputs": [],
   "source": [
    "ts_dict = true_skill_history_priors.learning_curves()"
   ]
  },
  {
   "cell_type": "code",
   "execution_count": 21,
   "id": "4c3017a3",
   "metadata": {},
   "outputs": [],
   "source": [
    "small_dict = dict()\n",
    "\n",
    "for key in ts_dict.keys():\n",
    "    small_dict[key] = ts_dict[key][-1]"
   ]
  },
  {
   "cell_type": "code",
   "execution_count": 22,
   "id": "3768af94",
   "metadata": {},
   "outputs": [],
   "source": [
    "with open('womens_big_dict.pickle', 'wb') as file:\n",
    "    pickle.dump(ts_dict, file, protocol=pickle.HIGHEST_PROTOCOL)"
   ]
  },
  {
   "cell_type": "code",
   "execution_count": 23,
   "id": "604b746a",
   "metadata": {},
   "outputs": [],
   "source": [
    "with open('womens_small_dict.pickle', 'wb') as fileb:\n",
    "    pickle.dump(small_dict, fileb, protocol=pickle.HIGHEST_PROTOCOL)"
   ]
  },
  {
   "cell_type": "code",
   "execution_count": null,
   "id": "fa484841",
   "metadata": {},
   "outputs": [],
   "source": []
  }
 ],
 "metadata": {
  "kernelspec": {
   "display_name": "Python 3 (ipykernel)",
   "language": "python",
   "name": "python3"
  },
  "language_info": {
   "codemirror_mode": {
    "name": "ipython",
    "version": 3
   },
   "file_extension": ".py",
   "mimetype": "text/x-python",
   "name": "python",
   "nbconvert_exporter": "python",
   "pygments_lexer": "ipython3",
   "version": "3.9.16"
  }
 },
 "nbformat": 4,
 "nbformat_minor": 5
}
