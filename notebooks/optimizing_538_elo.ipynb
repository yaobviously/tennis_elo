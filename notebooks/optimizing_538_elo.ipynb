{
 "cells": [
  {
   "cell_type": "code",
   "execution_count": 119,
   "id": "34d3f1be",
   "metadata": {},
   "outputs": [],
   "source": [
    "import os\n",
    "import sys\n",
    "\n",
    "import pandas as pd\n",
    "import numpy as np\n",
    "\n",
    "from sklearn.metrics import brier_score_loss\n",
    "\n",
    "import optuna\n",
    "\n",
    "from utils import load_atp_data\n",
    "sys.path.append('../')"
   ]
  },
  {
   "cell_type": "code",
   "execution_count": 120,
   "id": "900a16d9",
   "metadata": {},
   "outputs": [],
   "source": [
    "class MatchElo:\n",
    "\n",
    "    def __init__(self, df: pd.DataFrame, base_k: int = 225, exponent: float=0.9983, floor: int=50, offset: int=10):\n",
    "        self.df = df\n",
    "        self.names = set(\n",
    "            pd.concat([self.df['winner_name'], self.df['loser_name']]))\n",
    "        self.winners = self.df.winner_name\n",
    "        self.winners_mp = self.df.winner_mp\n",
    "        self.losers = self.df.loser_name\n",
    "        self.losers_mp = self.df.loser_mp\n",
    "        self.elo_dict = {name: 1500 for name in self.names}\n",
    "        self.base_k = base_k\n",
    "        self.exponent = exponent\n",
    "        self.floor = floor\n",
    "        self.offset = offset\n",
    "        self.processed = False\n",
    "        self.winner_elo = []\n",
    "        self.loser_elo = []\n",
    "        self.winner_probs = []\n",
    "\n",
    "    def update_elo(self, winner=None, loser=None, winner_mp=0, loser_mp=0):\n",
    "\n",
    "        prematch_winner_elo = self.elo_dict[winner]\n",
    "        prematch_loser_elo = self.elo_dict[loser]\n",
    "\n",
    "        exp_a = 1 / \\\n",
    "            (1 + 10 ** ((prematch_loser_elo - prematch_winner_elo)/400))\n",
    "        exp_b = 1 - exp_a\n",
    "        \n",
    "        winner_k = np.maximum(self.floor, (self.base_k / (winner_mp + self.offset)) ** self.exponent)\n",
    "        loser_k = np.maximum(self.floor, (self.base_k / (loser_mp + self.offset)) ** self.exponent)\n",
    "\n",
    "        winner_delta = winner_k * (1 - exp_a)\n",
    "        loser_delta = loser_k * (0 - exp_b)\n",
    "\n",
    "        self.elo_dict[winner] = prematch_winner_elo + winner_delta\n",
    "        self.elo_dict[loser] = prematch_loser_elo + loser_delta\n",
    "\n",
    "        return exp_a, prematch_winner_elo, prematch_loser_elo\n",
    "\n",
    "    def process_elo(self):\n",
    "\n",
    "        if self.processed:\n",
    "            return \"elo already processed\"\n",
    "\n",
    "        else:\n",
    "            for w, l, wp, lp in zip(self.winners, self.losers, self.winners_mp, self.losers_mp):\n",
    "                win_prob_, pm_w, pm_l = self.update_elo(winner=w, loser=l, winner_mp=wp, loser_mp=lp)\n",
    "\n",
    "                self.winner_elo.append(pm_w)\n",
    "                self.loser_elo.append(pm_l)\n",
    "                self.winner_probs.append(win_prob_)\n",
    "\n",
    "            self.processed = True\n",
    "            print(\"elo ratings processed successfully\")\n",
    "            return self\n",
    "        "
   ]
  },
  {
   "cell_type": "code",
   "execution_count": 121,
   "id": "c618dfba",
   "metadata": {},
   "outputs": [
    {
     "name": "stdout",
     "output_type": "stream",
     "text": [
      "shape before dropping match dupes: (583792, 75)\n",
      "shape after dropping match dupes: (583731, 75)\n"
     ]
    }
   ],
   "source": [
    "df = load_atp_data(folder_path='../tennis_atp')"
   ]
  },
  {
   "cell_type": "code",
   "execution_count": 122,
   "id": "9529c279",
   "metadata": {},
   "outputs": [],
   "source": [
    "match_df = (\n",
    "    pd.concat([\n",
    "    df[['winner_id', 'tourney_date']].rename(columns={'winner_id' : 'player_id'}),\n",
    "    df[['loser_id', 'tourney_date']].rename(columns={'loser_id' : 'player_id'})])\n",
    "    .sort_index()\n",
    "    .assign(matches_played = match_df.groupby('player_id').cumcount() )\n",
    ")"
   ]
  },
  {
   "cell_type": "code",
   "execution_count": 123,
   "id": "1c25abd9",
   "metadata": {},
   "outputs": [],
   "source": [
    "matches_dict = match_df.set_index('player_id', append=True)['matches_played'].to_dict()\n",
    "\n",
    "mp_winner = []\n",
    "mp_loser = []\n",
    "\n",
    "for i, winner, loser in zip(df.index, df['winner_id'], df['loser_id']):\n",
    "    \n",
    "    winner_mp_ = matches_dict[(i, winner)]\n",
    "    loser_mp_ = matches_dict[(i, loser)]\n",
    "    \n",
    "    mp_winner.append(winner_mp_)\n",
    "    mp_loser.append(loser_mp_)\n",
    "\n",
    "df['winner_mp'] = mp_winner\n",
    "df['loser_mp'] = mp_loser"
   ]
  },
  {
   "cell_type": "code",
   "execution_count": 124,
   "id": "eab06d43",
   "metadata": {},
   "outputs": [],
   "source": [
    "challenger_df = df[df['tourney_level'] == 'C'].copy()\n",
    "not_challenger_df = df[df['tourney_level'] != 'C'].copy()"
   ]
  },
  {
   "cell_type": "code",
   "execution_count": 131,
   "id": "dc8ad04e",
   "metadata": {},
   "outputs": [],
   "source": [
    "def objective(trial):\n",
    "    \n",
    "    n = trial.suggest_int(\"base_k\", 125, 500, step=25)\n",
    "    m = trial.suggest_float(\"exponent\", 0.9, 1.2)\n",
    "    f = trial.suggest_int(\"floor\", 33, 75)\n",
    "    o = trial.suggest_int(\"offset\", 6, 20)\n",
    "    \n",
    "    elo_obj = MatchElo(not_challenger_df, base_k=n, exponent=m, floor=f, offset=o)\n",
    "    _ = elo_obj.process_elo()\n",
    "    \n",
    "    result_ = elo_obj.winner_probs\n",
    "        \n",
    "    return brier_score_loss([1] * len(not_challenger_df), result_)"
   ]
  },
  {
   "cell_type": "code",
   "execution_count": null,
   "id": "13b6297b",
   "metadata": {},
   "outputs": [],
   "source": [
    "study = optuna.create_study(direction='minimize')\n",
    "study.optimize(objective, n_trials=125)"
   ]
  },
  {
   "cell_type": "code",
   "execution_count": 133,
   "id": "59d948e0",
   "metadata": {},
   "outputs": [
    {
     "data": {
      "text/plain": [
       "{'base_k': 450, 'exponent': 0.9815329839141791, 'floor': 56, 'offset': 8}"
      ]
     },
     "execution_count": 133,
     "metadata": {},
     "output_type": "execute_result"
    }
   ],
   "source": [
    "study.best_params"
   ]
  },
  {
   "cell_type": "code",
   "execution_count": null,
   "id": "f116a913",
   "metadata": {},
   "outputs": [],
   "source": []
  }
 ],
 "metadata": {
  "kernelspec": {
   "display_name": "Python 3 (ipykernel)",
   "language": "python",
   "name": "python3"
  },
  "language_info": {
   "codemirror_mode": {
    "name": "ipython",
    "version": 3
   },
   "file_extension": ".py",
   "mimetype": "text/x-python",
   "name": "python",
   "nbconvert_exporter": "python",
   "pygments_lexer": "ipython3",
   "version": "3.9.16"
  }
 },
 "nbformat": 4,
 "nbformat_minor": 5
}
