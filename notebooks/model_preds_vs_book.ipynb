{
 "cells": [
  {
   "cell_type": "code",
   "execution_count": 8,
   "id": "d39b8371",
   "metadata": {},
   "outputs": [],
   "source": [
    "import os\n",
    "import sys\n",
    "\n",
    "import pandas as pd\n",
    "import numpy as np\n",
    "import matplotlib.pyplot as plt\n",
    "import seaborn as sns\n",
    "\n",
    "from sklearn.metrics import brier_score_loss, log_loss\n",
    "from sklearn.calibration import calibration_curve, CalibrationDisplay\n",
    "\n",
    "sys.path.append('../')\n",
    "\n",
    "from utils import load_atp_data"
   ]
  },
  {
   "cell_type": "code",
   "execution_count": 76,
   "id": "d995b5fd",
   "metadata": {},
   "outputs": [],
   "source": [
    "def kelly_winner_bet(row):\n",
    "    \n",
    "    base = row['model_w_pred']\n",
    "    sub = (1 - base) / (row['psw'] - 1)\n",
    "    \n",
    "    return base - sub\n",
    "\n",
    "def kelly_loser_bet(row):\n",
    "    \n",
    "    base = row['model_l_pred']\n",
    "    sub = (1 - base) / (row['psl'] - 1)\n",
    "    \n",
    "    return base -sub"
   ]
  },
  {
   "cell_type": "code",
   "execution_count": 11,
   "id": "4886be9a",
   "metadata": {},
   "outputs": [
    {
     "name": "stdout",
     "output_type": "stream",
     "text": [
      "shape before dropping match dupes: (583792, 75)\n",
      "shape after dropping match dupes: (583731, 75)\n"
     ]
    }
   ],
   "source": [
    "# loading all atp data\n",
    "df = load_atp_data('../tennis_atp')"
   ]
  },
  {
   "cell_type": "code",
   "execution_count": 13,
   "id": "91274c84",
   "metadata": {},
   "outputs": [],
   "source": [
    "# loading the data with model predictions\n",
    "oof_df = pd.read_csv(\"../data/prediction_df.csv\", parse_dates=['player_tourney_date'])"
   ]
  },
  {
   "cell_type": "code",
   "execution_count": 5,
   "id": "34ec2a8d",
   "metadata": {},
   "outputs": [],
   "source": [
    "# loading the betting data \n",
    "years = ['2021.xlsx', '2022.xlsx', '2023.xlsx']\n",
    "\n",
    "folder = '../tennis_betting_data/'\n",
    "\n",
    "betting_df = pd.DataFrame()\n",
    "\n",
    "for year in years:\n",
    "    df_ = pd.read_excel(f'{folder}{year}')\n",
    "    betting_df = pd.concat([betting_df, df_])\n",
    "    \n",
    "betting_df['date_monday'] = betting_df['Date'] - pd.offsets.Week(weekday=0)\n",
    "betting_df['winner_last_name'] = [x.split()[0] for x in betting_df.Winner]\n",
    "betting_df['loser_last_name'] = [x.split()[0] for x in betting_df.Loser]\n",
    "\n",
    "betting_df.drop(columns='Surface', inplace=True)"
   ]
  },
  {
   "cell_type": "code",
   "execution_count": 14,
   "id": "95bb69d8",
   "metadata": {},
   "outputs": [],
   "source": [
    "# creating a list->tuple of the players in each match\n",
    "# we'll use these tuples to merge the dataframes \n",
    "# this shouldnt be necessary but i foolishly messed up the\n",
    "# indices in the model df\n",
    "unique_match_players = df[['winner_id', 'loser_id']].values.tolist()\n",
    "df['details'] = unique_match_players\n",
    "df['details'] = [tuple(sorted(x)) for x in df['details']]\n",
    "\n",
    "unique_match_players_oof = oof_df[['player_id', 'player_2_id']].values.tolist()\n",
    "oof_df['details'] = unique_match_players_oof\n",
    "oof_df['details'] = [tuple(sorted(x)) for x in oof_df['details']]\n",
    "\n",
    "# creating the assessment df by merging the two\n",
    "assess_df = (\n",
    "    oof_df\n",
    "    .merge(df, how='left', left_on=['player_tourney_date', 'details'],\n",
    "           right_on=['tourney_date', 'details'])\n",
    ")\n",
    "\n",
    "# indicating when player_id in oof_df matches winner\n",
    "assess_df['player_one_winner'] = np.where(assess_df['player_id'] == assess_df['winner_id'], 1, 0)\n",
    "assess_df['winner_last_name'] = [x.split()[-1] for x in assess_df.winner_name]\n",
    "assess_df['loser_last_name'] = [x.split()[-1] for x in assess_df.loser_name]"
   ]
  },
  {
   "cell_type": "code",
   "execution_count": 82,
   "id": "05d70fe7",
   "metadata": {},
   "outputs": [
    {
     "name": "stdout",
     "output_type": "stream",
     "text": [
      "(3226, 194)\n"
     ]
    }
   ],
   "source": [
    "# creating the trial dataframe to test our model\n",
    "\n",
    "trial = assess_df.merge(betting_df, how='left', left_on=['tourney_date', 'winner_last_name', 'loser_last_name'],\n",
    "                 right_on=['date_monday', 'winner_last_name', 'loser_last_name'])\n",
    "\n",
    "trial = trial[~trial['date_monday'].isnull()]\n",
    "trial.columns = trial.columns.str.lower()\n",
    "\n",
    "# calculating odds with and without vigorish for the average price\n",
    "trial['avg_vegas_pred_w'] = 1 / trial['avgw']\n",
    "trial['avg_vegas_pred_l'] = 1 / trial['avgl']\n",
    "trial['avg_overround'] = trial[['avg_vegas_pred_w', 'avg_vegas_pred_l']].sum(axis=1)\n",
    "trial['avg_w_no_vig'] = trial['avg_vegas_pred_w'].div(trial['avg_overround'])\n",
    "trial['avg_l_no_vig'] = trial['avg_vegas_pred_l'].div(trial['avg_overround'])\n",
    "\n",
    "# calculating odds with and without vigorish for pinnacle\n",
    "trial['pinnacle_vegas_pred_w'] = 1 / trial['psw']\n",
    "trial['pinnacle_vegas_pred_l'] = 1 / trial['psl']\n",
    "trial['pinnacle_overround'] = trial[['pinnacle_vegas_pred_w', 'pinnacle_vegas_pred_l']].sum(axis=1)\n",
    "trial['pinnacle_w_no_vig'] = trial['pinnacle_vegas_pred_w'].div(trial['pinnacle_overround'])\n",
    "trial['pinnacle_l_no_vig'] = trial['pinnacle_vegas_pred_l'].div(trial['pinnacle_overround'])\n",
    "\n",
    "# converting the model predictions to winner and loser predictions\n",
    "trial['model_w_pred'] = np.where(trial['player_one_winner'] == 1,\n",
    "                                 trial['pred_player_one_win'],\n",
    "                                 1 - trial['pred_player_one_win'])\n",
    "\n",
    "trial['model_l_pred'] = 1 - trial['model_w_pred']\n",
    "\n",
    "# calculating kelly bet given predictions\n",
    "trial['winner_kelly_bet'] = trial.apply(kelly_winner_bet, axis=1)\n",
    "trial['loser_kelly_bet'] = trial.apply(kelly_loser_bet, axis=1)\n",
    "\n",
    "# dropping all rows where we don't have a vegas prediction\n",
    "trial = trial[~trial['avg_vegas_pred_w'].isnull()].copy()\n",
    "trial = trial[~trial['pinnacle_vegas_pred_w'].isnull()].copy()\n",
    "trial = trial[trial['pinnacle_vegas_pred_w'].between(0, 1)].copy()\n",
    "trial = trial[trial['avg_overround'].between(1, 1.07)].copy()\n",
    "trial = trial[trial['pinnacle_overround'].between(1, 1.03)].copy()\n",
    "\n",
    "print(trial.shape)"
   ]
  },
  {
   "cell_type": "code",
   "execution_count": 83,
   "id": "e00dee6d",
   "metadata": {},
   "outputs": [
    {
     "name": "stdout",
     "output_type": "stream",
     "text": [
      "the logloss for pinnacle: 0.5748254634577388\n",
      "the logloss for my model: 0.5824280598425258\n",
      "the logloss for avg vegas: 0.5776862859841835\n"
     ]
    }
   ],
   "source": [
    "trial['rearrange'] = np.random.choice([0, 1], size=len(trial))\n",
    "trial['p1'] = np.where(trial['rearrange'] == 1, trial['pinnacle_vegas_pred_w'], trial['pinnacle_vegas_pred_l'])\n",
    "trial['p2'] = np.where(trial['rearrange'] == 1, trial['model_w_pred'], trial['model_l_pred'])\n",
    "trial['p3'] = np.where(trial['rearrange'] == 1, trial['avg_vegas_pred_w'], trial['avg_vegas_pred_l'])\n",
    "\n",
    "print(\"the logloss for pinnacle:\", log_loss(trial['rearrange'], trial['p1']))\n",
    "print(\"the logloss for my model:\", log_loss(trial['rearrange'], trial['p2']))\n",
    "print(\"the logloss for avg vegas:\", log_loss(trial['rearrange'], trial['p3']))"
   ]
  },
  {
   "cell_type": "code",
   "execution_count": 95,
   "id": "cf396be3",
   "metadata": {},
   "outputs": [
    {
     "data": {
      "text/plain": [
       "0.5957249690539913"
      ]
     },
     "execution_count": 95,
     "metadata": {},
     "output_type": "execute_result"
    }
   ],
   "source": [
    "# lets try diff kelly cutoffs\n",
    "cutoff = 0.3\n",
    "condition = (trial['winner_kelly_bet'] >= cutoff) | (trial['loser_kelly_bet'] >= cutoff)\n",
    "\n",
    "kelly_df = trial[condition].copy()\n",
    "\n",
    "log_loss(kelly_df['rearrange'], kelly_df['p1'])"
   ]
  },
  {
   "cell_type": "code",
   "execution_count": 44,
   "id": "67fc6f41",
   "metadata": {},
   "outputs": [
    {
     "data": {
      "image/png": "[encoded data removed]",
      "text/plain": [
       "<Figure size 400x300 with 1 Axes>"
      ]
     },
     "metadata": {},
     "output_type": "display_data"
    }
   ],
   "source": [
    "fig, ax = plt.subplots(figsize=(4,3))\n",
    "\n",
    "sns.histplot(trial['avg_vegas_pred_w'], bins=25, label='Avg Vegas')\n",
    "sns.histplot(trial['pinnacle_vegas_pred_w'], bins=25, label='Pinnacle')\n",
    "sns.histplot(trial['model_w_pred'], bins=25, label='Model')\n",
    "\n",
    "plt.legend()\n",
    "plt.show()"
   ]
  },
  {
   "cell_type": "code",
   "execution_count": 34,
   "id": "5675b85c",
   "metadata": {},
   "outputs": [],
   "source": [
    "model_brier = lambda x: brier_score_loss(x['player_one_winner'], x['model_w_pred'])\n",
    "pinnacle_vegas_brier = lambda x: brier_score_loss(x['player_one_winner'], x['pinnacle_vegas_pred_w'])\n",
    "\n",
    "briers_df = (\n",
    "    pd.concat([trial.groupby(['season', 'tourney_name']).apply(model_brier),\n",
    "               trial.groupby(['season', 'tourney_name']).apply(pinnacle_vegas_brier)], axis=1)\n",
    "    .rename(columns={0 : 'model', 1 : 'pinnacle'})\n",
    ")\n",
    "\n",
    "briers_df['model_wins'] = (briers_df['model'] < briers_df['pinnacle']).astype(int)"
   ]
  },
  {
   "cell_type": "code",
   "execution_count": 43,
   "id": "ce534487",
   "metadata": {},
   "outputs": [
    {
     "data": {
      "image/png": "[encoded data removed]",
      "text/plain": [
       "<Figure size 400x300 with 1 Axes>"
      ]
     },
     "metadata": {},
     "output_type": "display_data"
    }
   ],
   "source": [
    "fig, ax = plt.subplots(figsize=(4,3))\n",
    "sns.histplot(briers_df['model'], label='Model')\n",
    "sns.histplot(briers_df['pinnacle'], label='Pinny')\n",
    "\n",
    "plt.legend()\n",
    "plt.show()"
   ]
  }
 ],
 "metadata": {
  "kernelspec": {
   "display_name": "Python 3 (ipykernel)",
   "language": "python",
   "name": "python3"
  },
  "language_info": {
   "codemirror_mode": {
    "name": "ipython",
    "version": 3
   },
   "file_extension": ".py",
   "mimetype": "text/x-python",
   "name": "python",
   "nbconvert_exporter": "python",
   "pygments_lexer": "ipython3",
   "version": "3.9.16"
  }
 },
 "nbformat": 4,
 "nbformat_minor": 5
}
