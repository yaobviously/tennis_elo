{
 "cells": [
  {
   "cell_type": "code",
   "execution_count": 1,
   "id": "d39b8371",
   "metadata": {},
   "outputs": [],
   "source": [
    "import os\n",
    "import sys\n",
    "\n",
    "import pandas as pd\n",
    "import numpy as np\n",
    "import matplotlib.pyplot as plt\n",
    "import seaborn as sns\n",
    "\n",
    "from sklearn.metrics import brier_score_loss, log_loss\n",
    "from sklearn.calibration import calibration_curve, CalibrationDisplay\n",
    "\n",
    "sys.path.append('../')\n",
    "\n",
    "from utils import load_atp_data"
   ]
  },
  {
   "cell_type": "code",
   "execution_count": 2,
   "id": "341ae5cc",
   "metadata": {},
   "outputs": [],
   "source": [
    "def kelly_winner_bet(row):\n",
    "    \n",
    "    base = row['model_w_pred']\n",
    "    sub = (1 - base) / (row['psw'] - 1)\n",
    "    \n",
    "    return base - sub\n",
    "\n",
    "def kelly_loser_bet(row):\n",
    "    \n",
    "    base = row['model_l_pred']\n",
    "    sub = (1 - base) / (row['psl'] - 1)\n",
    "    \n",
    "    return base -sub"
   ]
  },
  {
   "cell_type": "code",
   "execution_count": 3,
   "id": "ae97d332",
   "metadata": {},
   "outputs": [
    {
     "name": "stdout",
     "output_type": "stream",
     "text": [
      "shape before dropping match dupes: (583792, 75)\n",
      "shape after dropping match dupes: (583731, 75)\n"
     ]
    }
   ],
   "source": [
    "# loading all atp data\n",
    "df = load_atp_data('../tennis_atp')"
   ]
  },
  {
   "cell_type": "code",
   "execution_count": 10,
   "id": "bdee837b",
   "metadata": {},
   "outputs": [],
   "source": [
    "# loading the data with model predictions\n",
    "oof_df = pd.read_csv(\"../data/prediction_df.csv\", parse_dates=['player_tourney_date'])"
   ]
  },
  {
   "cell_type": "code",
   "execution_count": 11,
   "id": "34ec2a8d",
   "metadata": {},
   "outputs": [],
   "source": [
    "# loading the betting data \n",
    "years = ['2021.xlsx', '2022.xlsx', '2023.xlsx']\n",
    "\n",
    "folder = '../tennis_betting_data/'\n",
    "\n",
    "betting_df = pd.DataFrame()\n",
    "\n",
    "for year in years:\n",
    "    df_ = pd.read_excel(f'{folder}{year}')\n",
    "    betting_df = pd.concat([betting_df, df_])\n",
    "    \n",
    "betting_df['date_monday'] = betting_df['Date'] - pd.offsets.Week(weekday=0)\n",
    "betting_df['winner_last_name'] = [x.split()[0] for x in betting_df.Winner]\n",
    "betting_df['loser_last_name'] = [x.split()[0] for x in betting_df.Loser]\n",
    "\n",
    "betting_df.drop(columns='Surface', inplace=True)"
   ]
  },
  {
   "cell_type": "code",
   "execution_count": 12,
   "id": "ff4a17ac",
   "metadata": {},
   "outputs": [],
   "source": [
    "# creating a list->tuple of the players in each match\n",
    "# we'll use these tuples to merge the dataframes \n",
    "# this shouldnt be necessary but i foolishly messed up the\n",
    "# indices in the model df\n",
    "unique_match_players = df[['winner_id', 'loser_id']].values.tolist()\n",
    "df['details'] = unique_match_players\n",
    "df['details'] = [tuple(sorted(x)) for x in df['details']]\n",
    "\n",
    "unique_match_players_oof = oof_df[['player_id', 'player_2_id']].values.tolist()\n",
    "oof_df['details'] = unique_match_players_oof\n",
    "oof_df['details'] = [tuple(sorted(x)) for x in oof_df['details']]\n",
    "\n",
    "# creating the assessment df by merging the two\n",
    "assess_df = (\n",
    "    oof_df\n",
    "    .merge(df, how='left', left_on=['player_tourney_date', 'details'],\n",
    "           right_on=['tourney_date', 'details'])\n",
    ")\n",
    "\n",
    "# indicating when player_id in oof_df matches winner\n",
    "assess_df['player_one_winner'] = np.where(assess_df['player_id'] == assess_df['winner_id'], 1, 0)\n",
    "assess_df['winner_last_name'] = [x.split()[-1] for x in assess_df.winner_name]\n",
    "assess_df['loser_last_name'] = [x.split()[-1] for x in assess_df.loser_name]"
   ]
  },
  {
   "cell_type": "code",
   "execution_count": 13,
   "id": "05d70fe7",
   "metadata": {},
   "outputs": [
    {
     "name": "stdout",
     "output_type": "stream",
     "text": [
      "(3226, 194)\n"
     ]
    }
   ],
   "source": [
    "# creating the trial dataframe to test our model\n",
    "\n",
    "trial = assess_df.merge(betting_df, how='left', left_on=['tourney_date', 'winner_last_name', 'loser_last_name'],\n",
    "                 right_on=['date_monday', 'winner_last_name', 'loser_last_name'])\n",
    "\n",
    "trial = trial[~trial['date_monday'].isnull()]\n",
    "trial.columns = trial.columns.str.lower()\n",
    "\n",
    "# calculating odds with and without vigorish for the average price\n",
    "trial['avg_vegas_pred_w'] = 1 / trial['avgw']\n",
    "trial['avg_vegas_pred_l'] = 1 / trial['avgl']\n",
    "trial['avg_overround'] = trial[['avg_vegas_pred_w', 'avg_vegas_pred_l']].sum(axis=1)\n",
    "trial['avg_w_no_vig'] = trial['avg_vegas_pred_w'].div(trial['avg_overround'])\n",
    "trial['avg_l_no_vig'] = trial['avg_vegas_pred_l'].div(trial['avg_overround'])\n",
    "\n",
    "# calculating odds with and without vigorish for pinnacle\n",
    "trial['pinnacle_vegas_pred_w'] = 1 / trial['psw']\n",
    "trial['pinnacle_vegas_pred_l'] = 1 / trial['psl']\n",
    "trial['pinnacle_overround'] = trial[['pinnacle_vegas_pred_w', 'pinnacle_vegas_pred_l']].sum(axis=1)\n",
    "trial['pinnacle_w_no_vig'] = trial['pinnacle_vegas_pred_w'].div(trial['pinnacle_overround'])\n",
    "trial['pinnacle_l_no_vig'] = trial['pinnacle_vegas_pred_l'].div(trial['pinnacle_overround'])\n",
    "\n",
    "# converting the model predictions to winner and loser predictions\n",
    "trial['model_w_pred'] = np.where(trial['player_one_winner'] == 1,\n",
    "                                 trial['pred_player_one_win'],\n",
    "                                 1 - trial['pred_player_one_win'])\n",
    "\n",
    "trial['model_l_pred'] = 1 - trial['model_w_pred']\n",
    "\n",
    "# calculating kelly bet given predictions\n",
    "trial['winner_kelly_bet'] = trial.apply(kelly_winner_bet, axis=1)\n",
    "trial['loser_kelly_bet'] = trial.apply(kelly_loser_bet, axis=1)\n",
    "\n",
    "# dropping all rows where we don't have a vegas prediction\n",
    "# and eliminating some anomalies\n",
    "trial = trial[~trial['avg_vegas_pred_w'].isnull()].copy()\n",
    "trial = trial[~trial['pinnacle_vegas_pred_w'].isnull()].copy()\n",
    "trial = trial[trial['pinnacle_vegas_pred_w'].between(0, 1)].copy()\n",
    "trial = trial[trial['avg_overround'].between(1, 1.07)].copy()\n",
    "trial = trial[trial['pinnacle_overround'].between(1, 1.03)].copy()\n",
    "\n",
    "print(trial.shape)"
   ]
  },
  {
   "cell_type": "code",
   "execution_count": 14,
   "id": "b3ba5f41",
   "metadata": {},
   "outputs": [
    {
     "name": "stdout",
     "output_type": "stream",
     "text": [
      "the logloss for pinnacle: 0.5748431265837426\n",
      "the logloss for my model: 0.5824280598425258\n",
      "the logloss for avg vegas: 0.5776605832588945\n"
     ]
    }
   ],
   "source": [
    "# to briefly explain whats happening here, the original dataframe\n",
    "# has a column for winners and losers. above i calculated \n",
    "# the vegas and model predictions for the winner, and now\n",
    "# by randomly assigning 1s and 0s we can calculate log loss \n",
    "\n",
    "trial['rearrange'] = np.random.choice([0, 1], size=len(trial))\n",
    "trial['p1'] = np.where(trial['rearrange'] == 1, trial['pinnacle_vegas_pred_w'], trial['pinnacle_vegas_pred_l'])\n",
    "trial['p2'] = np.where(trial['rearrange'] == 1, trial['model_w_pred'], trial['model_l_pred'])\n",
    "trial['p3'] = np.where(trial['rearrange'] == 1, trial['avg_vegas_pred_w'], trial['avg_vegas_pred_l'])\n",
    "\n",
    "print(\"the logloss for pinnacle:\", log_loss(trial['rearrange'], trial['p1']))\n",
    "print(\"the logloss for my model:\", log_loss(trial['rearrange'], trial['p2']))\n",
    "print(\"the logloss for avg vegas:\", log_loss(trial['rearrange'], trial['p3']))"
   ]
  },
  {
   "cell_type": "markdown",
   "id": "948d1e86",
   "metadata": {},
   "source": [
    "# Comparing Log Loss  \n",
    "\n",
    "Below I plot the log loss comparisons for the model  \n",
    "and Pinnacle with different cutoffs. For example,  \n",
    "when the cutoff is 0.01 it means we're only comparing  \n",
    "the log loss for matches where the model win probability  \n",
    "diverged by less than 0.01 from Pinnacle.  \n",
    "\n",
    "The model is doing very well until about 0.075%.  \n",
    "When the model diverges by more than that it performs  \n",
    "relatively poorly. It is worth noticing that Vegas also  \n",
    "does worse as the divergence increases, suggesting that these  \n",
    "matches were less predictable."
   ]
  },
  {
   "cell_type": "code",
   "execution_count": 70,
   "id": "7b4728a5",
   "metadata": {},
   "outputs": [
    {
     "data": {
      "image/png": "[encoded data removed]",
      "text/plain": [
       "<Figure size 400x300 with 1 Axes>"
      ]
     },
     "metadata": {},
     "output_type": "display_data"
    }
   ],
   "source": [
    "increments = np.arange(0.01, 0.25, 0.01)\n",
    "\n",
    "ll_vegas = []\n",
    "ll_model = []\n",
    "\n",
    "for n in increments:\n",
    "    filtered_ = trial[trial['abs_diff'] <= n]\n",
    "    ll_vegas_ = log_loss(filtered_['rearrange'], filtered_['p1'])\n",
    "    ll_model_ = log_loss(filtered_['rearrange'], filtered_['p2'])\n",
    "    \n",
    "    ll_vegas.append(ll_vegas_)\n",
    "    ll_model.append(ll_model_)\n",
    "    \n",
    "fig, ax = plt.subplots(figsize=(4,3))\n",
    "\n",
    "plt.plot(increments, ll_vegas, label='Pinnacle')\n",
    "plt.plot(increments, ll_model, label='Model')\n",
    "\n",
    "plt.title(\"Log Loss Comparison by Divergence Cutoff\")\n",
    "plt.xlabel(\"Cutoff\")\n",
    "plt.ylabel(\"Log Loss\")\n",
    "plt.grid(True)\n",
    "plt.legend()\n",
    "plt.show()"
   ]
  },
  {
   "cell_type": "code",
   "execution_count": 15,
   "id": "67fc6f41",
   "metadata": {},
   "outputs": [
    {
     "data": {
      "image/png": "[encoded data removed]",
      "text/plain": [
       "<Figure size 400x300 with 1 Axes>"
      ]
     },
     "metadata": {},
     "output_type": "display_data"
    }
   ],
   "source": [
    "fig, ax = plt.subplots(figsize=(4,3))\n",
    "\n",
    "sns.histplot(trial['avg_vegas_pred_w'], bins=25, label='Avg Vegas')\n",
    "sns.histplot(trial['pinnacle_vegas_pred_w'], bins=25, label='Pinnacle')\n",
    "sns.histplot(trial['model_w_pred'], bins=25, label='Model')\n",
    "\n",
    "plt.legend()\n",
    "plt.show()"
   ]
  },
  {
   "cell_type": "code",
   "execution_count": 16,
   "id": "3b7551b6",
   "metadata": {},
   "outputs": [],
   "source": [
    "model_brier = lambda x: brier_score_loss(x['player_one_winner'], x['model_w_pred'])\n",
    "pinnacle_vegas_brier = lambda x: brier_score_loss(x['player_one_winner'], x['pinnacle_vegas_pred_w'])\n",
    "\n",
    "briers_df = (\n",
    "    pd.concat([trial.groupby(['season', 'tourney_name']).apply(model_brier),\n",
    "               trial.groupby(['season', 'tourney_name']).apply(pinnacle_vegas_brier)], axis=1)\n",
    "    .rename(columns={0 : 'model', 1 : 'pinnacle'})\n",
    ")\n",
    "\n",
    "briers_df['model_wins'] = (briers_df['model'] < briers_df['pinnacle']).astype(int)"
   ]
  },
  {
   "cell_type": "code",
   "execution_count": 17,
   "id": "34b05070",
   "metadata": {},
   "outputs": [
    {
     "data": {
      "image/png": "[encoded data removed]",
      "text/plain": [
       "<Figure size 400x300 with 1 Axes>"
      ]
     },
     "metadata": {},
     "output_type": "display_data"
    }
   ],
   "source": [
    "# plotting the performance of the model vs pinny\n",
    "# across tourneys\n",
    "\n",
    "fig, ax = plt.subplots(figsize=(4,3))\n",
    "sns.histplot(briers_df['model'], label='Model')\n",
    "sns.histplot(briers_df['pinnacle'], label='Pinny', alpha=0.5)\n",
    "\n",
    "plt.title(\"Model and Pinny by Tournament\")\n",
    "plt.legend()\n",
    "plt.show()"
   ]
  },
  {
   "cell_type": "markdown",
   "id": "75825963",
   "metadata": {},
   "source": [
    "# Does a Mixture of Vegas + Model Beat Vegas?  \n",
    "\n",
    "The answer is yes, as can be seen below. That means  \n",
    "we're likely on the right track, even if we aren't there yet.  \n",
    "The model is capturing something useful.  "
   ]
  },
  {
   "cell_type": "code",
   "execution_count": 18,
   "id": "eeb6f6d9",
   "metadata": {},
   "outputs": [
    {
     "name": "stdout",
     "output_type": "stream",
     "text": [
      "log loss for vegas only: 0.5748431265837426\n",
      "log loss on the out of fold predictions 0.5727162014450884\n"
     ]
    }
   ],
   "source": [
    "from sklearn.model_selection import KFold\n",
    "from sklearn.linear_model import LinearRegression\n",
    "\n",
    "splitter = KFold(n_splits=100, shuffle=True)\n",
    "\n",
    "oof = np.zeros(len(trial))\n",
    "\n",
    "X = trial[['p1', 'p2']]\n",
    "y = trial['rearrange']\n",
    "\n",
    "for train, val in splitter.split(X, y):\n",
    "    \n",
    "    train_x = X.iloc[train]\n",
    "    train_y = y.iloc[train]\n",
    "    \n",
    "    val_x = X.iloc[val]\n",
    "    \n",
    "    model = LinearRegression()\n",
    "    model.fit(train_x, train_y)\n",
    "    \n",
    "    preds = model.predict(val_x)\n",
    "    oof[val] = preds\n",
    "\n",
    "print(\"log loss for vegas only:\", log_loss(y, trial['p1']))\n",
    "print(\"log loss on the out of fold predictions\", log_loss(y, oof))"
   ]
  },
  {
   "cell_type": "markdown",
   "id": "6c597ba8",
   "metadata": {},
   "source": [
    "# Bootstrap Resampling  \n",
    "\n",
    "Bootstrap resampling to estimate SE of log loss for the Pinnacle  \n",
    "closing line and the model. Here we sample tourney_ids with  \n",
    "replacement to account for the intra-tournament correlation in  \n",
    "error from, for example, weather, court conditions, incentives  \n",
    "invisible to me (home crowd, favorite tournament, critical career  \n",
    "juncture, etc.)"
   ]
  },
  {
   "cell_type": "code",
   "execution_count": 19,
   "id": "c91c66ac",
   "metadata": {},
   "outputs": [
    {
     "name": "stdout",
     "output_type": "stream",
     "text": [
      "vegas mean and std of samples 0.5571622824396099 0.008470334935247908\n",
      "model mean and std of samples 0.5639291349982948 0.00844522160398397\n"
     ]
    }
   ],
   "source": [
    "# doing bootstrap resampling to estimate the mean and standard\n",
    "# error of our log loss samples. it's likely that errors are correlated,\n",
    "# so in each iteration we sample a set of tourney ids to compare.\n",
    "# the standard error converges to 0.008 for vegas and 0.0083 for model\n",
    "\n",
    "SAMPLES = 250\n",
    "vegas_losses = []\n",
    "model_losses = []\n",
    "\n",
    "for _ in range(SAMPLES):\n",
    "\n",
    "    tourneys = trial['tourney_id'].sample(55, replace=True)\n",
    "    bootstrap_sample = trial[trial['tourney_id'].isin(tourneys)]\n",
    "    \n",
    "    vegas_loss = log_loss(bootstrap_sample['rearrange'], bootstrap_sample['p1'])\n",
    "    model_loss = log_loss(bootstrap_sample['rearrange'], bootstrap_sample['p2'])\n",
    "    \n",
    "    vegas_losses.append(vegas_loss)\n",
    "    model_losses.append(model_loss)\n",
    "\n",
    "print(\"vegas mean and std of samples\", np.mean(vegas_losses), np.std(vegas_losses, ddof=1))\n",
    "print(\"model mean and std of samples\", np.mean(model_losses), np.std(model_losses, ddof=1))"
   ]
  },
  {
   "cell_type": "markdown",
   "id": "10a29f22",
   "metadata": {},
   "source": [
    "# Large Deviations  \n",
    "\n",
    "Where did the model deviate the most from the market?  \n",
    "\n",
    "I might find clues to improve the model in general. "
   ]
  },
  {
   "cell_type": "code",
   "execution_count": 20,
   "id": "3dd6967b",
   "metadata": {},
   "outputs": [],
   "source": [
    "# calculating diff between market and model\n",
    "trial['oof_mixture'] = oof\n",
    "trial['abs_diff'] = abs(trial['p1'] - trial['p2'])\n",
    "trial['diff_bin'] = pd.qcut(trial['abs_diff'], q=20)\n",
    "\n",
    "trial['month'] = trial.tourney_date.dt.month\n",
    "trial['season'] = trial.tourney_date.dt.year"
   ]
  },
  {
   "cell_type": "code",
   "execution_count": 24,
   "id": "d2575b7f",
   "metadata": {},
   "outputs": [
    {
     "data": {
      "image/png": "[encoded data removed]",
      "text/plain": [
       "<Figure size 400x300 with 1 Axes>"
      ]
     },
     "metadata": {},
     "output_type": "display_data"
    }
   ],
   "source": [
    "fig, ax = plt.subplots(figsize=(4,3))\n",
    "\n",
    "sns.histplot(trial['abs_diff'])\n",
    "\n",
    "plt.title(\"Distribution of Deviations (Abs)\")\n",
    "plt.show()"
   ]
  },
  {
   "cell_type": "code",
   "execution_count": 26,
   "id": "b87488ad",
   "metadata": {},
   "outputs": [
    {
     "data": {
      "text/html": [
       "<div>\n",
       "<style scoped>\n",
       "    .dataframe tbody tr th:only-of-type {\n",
       "        vertical-align: middle;\n",
       "    }\n",
       "\n",
       "    .dataframe tbody tr th {\n",
       "        vertical-align: top;\n",
       "    }\n",
       "\n",
       "    .dataframe thead th {\n",
       "        text-align: right;\n",
       "    }\n",
       "</style>\n",
       "<table border=\"1\" class=\"dataframe\">\n",
       "  <thead>\n",
       "    <tr style=\"text-align: right;\">\n",
       "      <th></th>\n",
       "      <th>vegas</th>\n",
       "      <th>model</th>\n",
       "      <th>matches</th>\n",
       "      <th>vegas_edge</th>\n",
       "    </tr>\n",
       "    <tr>\n",
       "      <th>month</th>\n",
       "      <th></th>\n",
       "      <th></th>\n",
       "      <th></th>\n",
       "      <th></th>\n",
       "    </tr>\n",
       "  </thead>\n",
       "  <tbody>\n",
       "    <tr>\n",
       "      <th>1</th>\n",
       "      <td>0.585957</td>\n",
       "      <td>0.597111</td>\n",
       "      <td>323</td>\n",
       "      <td>0.011154</td>\n",
       "    </tr>\n",
       "    <tr>\n",
       "      <th>2</th>\n",
       "      <td>0.576667</td>\n",
       "      <td>0.595960</td>\n",
       "      <td>414</td>\n",
       "      <td>0.019293</td>\n",
       "    </tr>\n",
       "    <tr>\n",
       "      <th>3</th>\n",
       "      <td>0.592668</td>\n",
       "      <td>0.589152</td>\n",
       "      <td>320</td>\n",
       "      <td>-0.003516</td>\n",
       "    </tr>\n",
       "    <tr>\n",
       "      <th>4</th>\n",
       "      <td>0.600460</td>\n",
       "      <td>0.594272</td>\n",
       "      <td>266</td>\n",
       "      <td>-0.006188</td>\n",
       "    </tr>\n",
       "    <tr>\n",
       "      <th>5</th>\n",
       "      <td>0.536844</td>\n",
       "      <td>0.541713</td>\n",
       "      <td>349</td>\n",
       "      <td>0.004869</td>\n",
       "    </tr>\n",
       "    <tr>\n",
       "      <th>6</th>\n",
       "      <td>0.546953</td>\n",
       "      <td>0.560475</td>\n",
       "      <td>332</td>\n",
       "      <td>0.013522</td>\n",
       "    </tr>\n",
       "    <tr>\n",
       "      <th>7</th>\n",
       "      <td>0.603837</td>\n",
       "      <td>0.618313</td>\n",
       "      <td>254</td>\n",
       "      <td>0.014476</td>\n",
       "    </tr>\n",
       "    <tr>\n",
       "      <th>8</th>\n",
       "      <td>0.579724</td>\n",
       "      <td>0.589407</td>\n",
       "      <td>419</td>\n",
       "      <td>0.009683</td>\n",
       "    </tr>\n",
       "    <tr>\n",
       "      <th>9</th>\n",
       "      <td>0.580719</td>\n",
       "      <td>0.591635</td>\n",
       "      <td>176</td>\n",
       "      <td>0.010916</td>\n",
       "    </tr>\n",
       "    <tr>\n",
       "      <th>10</th>\n",
       "      <td>0.554498</td>\n",
       "      <td>0.560285</td>\n",
       "      <td>302</td>\n",
       "      <td>0.005787</td>\n",
       "    </tr>\n",
       "    <tr>\n",
       "      <th>11</th>\n",
       "      <td>0.593986</td>\n",
       "      <td>0.566641</td>\n",
       "      <td>71</td>\n",
       "      <td>-0.027345</td>\n",
       "    </tr>\n",
       "  </tbody>\n",
       "</table>\n",
       "</div>"
      ],
      "text/plain": [
       "          vegas     model  matches  vegas_edge\n",
       "month                                         \n",
       "1      0.585957  0.597111      323    0.011154\n",
       "2      0.576667  0.595960      414    0.019293\n",
       "3      0.592668  0.589152      320   -0.003516\n",
       "4      0.600460  0.594272      266   -0.006188\n",
       "5      0.536844  0.541713      349    0.004869\n",
       "6      0.546953  0.560475      332    0.013522\n",
       "7      0.603837  0.618313      254    0.014476\n",
       "8      0.579724  0.589407      419    0.009683\n",
       "9      0.580719  0.591635      176    0.010916\n",
       "10     0.554498  0.560285      302    0.005787\n",
       "11     0.593986  0.566641       71   -0.027345"
      ]
     },
     "execution_count": 26,
     "metadata": {},
     "output_type": "execute_result"
    }
   ],
   "source": [
    "month_comparison = (\n",
    "    pd.concat(\n",
    "        [trial.groupby('month').apply(lambda x: log_loss(x['rearrange'], x['p1'])), \n",
    "         trial.groupby('month').apply(lambda x: log_loss(x['rearrange'], x['p2']))], axis=1)\n",
    "    .rename(columns={0 : 'vegas', 1 : 'model'})\n",
    ")\n",
    "\n",
    "month_comparison['matches'] = trial.groupby('month').size()\n",
    "month_comparison['vegas_edge'] = month_comparison['model'] - month_comparison['vegas']\n",
    "\n",
    "month_comparison"
   ]
  },
  {
   "cell_type": "code",
   "execution_count": 36,
   "id": "a4ffaf9a",
   "metadata": {},
   "outputs": [],
   "source": [
    "cols = ['winner_name', 'loser_name', 'player_id', 'player_2_id', 'p1', 'p2', 'abs_diff', 'tourney_date', 'tourney_id']"
   ]
  },
  {
   "cell_type": "code",
   "execution_count": 37,
   "id": "45eaf33d",
   "metadata": {},
   "outputs": [
    {
     "data": {
      "text/html": [
       "<div>\n",
       "<style scoped>\n",
       "    .dataframe tbody tr th:only-of-type {\n",
       "        vertical-align: middle;\n",
       "    }\n",
       "\n",
       "    .dataframe tbody tr th {\n",
       "        vertical-align: top;\n",
       "    }\n",
       "\n",
       "    .dataframe thead th {\n",
       "        text-align: right;\n",
       "    }\n",
       "</style>\n",
       "<table border=\"1\" class=\"dataframe\">\n",
       "  <thead>\n",
       "    <tr style=\"text-align: right;\">\n",
       "      <th></th>\n",
       "      <th>winner_name</th>\n",
       "      <th>loser_name</th>\n",
       "      <th>player_id</th>\n",
       "      <th>player_2_id</th>\n",
       "      <th>p1</th>\n",
       "      <th>p2</th>\n",
       "      <th>abs_diff</th>\n",
       "      <th>tourney_date</th>\n",
       "      <th>tourney_id</th>\n",
       "    </tr>\n",
       "  </thead>\n",
       "  <tbody>\n",
       "    <tr>\n",
       "      <th>42442</th>\n",
       "      <td>Sebastian Korda</td>\n",
       "      <td>Soon Woo Kwon</td>\n",
       "      <td>126952.0</td>\n",
       "      <td>200624.0</td>\n",
       "      <td>0.574713</td>\n",
       "      <td>0.359593</td>\n",
       "      <td>0.215120</td>\n",
       "      <td>2021-01-04</td>\n",
       "      <td>2021-0499</td>\n",
       "    </tr>\n",
       "    <tr>\n",
       "      <th>42457</th>\n",
       "      <td>Roberto Quiroz</td>\n",
       "      <td>Ivo Karlovic</td>\n",
       "      <td>105933.0</td>\n",
       "      <td>103333.0</td>\n",
       "      <td>0.423729</td>\n",
       "      <td>0.583139</td>\n",
       "      <td>0.159410</td>\n",
       "      <td>2021-01-04</td>\n",
       "      <td>2021-0499</td>\n",
       "    </tr>\n",
       "    <tr>\n",
       "      <th>42460</th>\n",
       "      <td>Christian Harrison</td>\n",
       "      <td>Cristian Garin</td>\n",
       "      <td>106328.0</td>\n",
       "      <td>106426.0</td>\n",
       "      <td>0.625000</td>\n",
       "      <td>0.778787</td>\n",
       "      <td>0.153787</td>\n",
       "      <td>2021-01-04</td>\n",
       "      <td>2021-0499</td>\n",
       "    </tr>\n",
       "    <tr>\n",
       "      <th>42464</th>\n",
       "      <td>Christian Harrison</td>\n",
       "      <td>Gianluca Mager</td>\n",
       "      <td>106328.0</td>\n",
       "      <td>126149.0</td>\n",
       "      <td>0.595238</td>\n",
       "      <td>0.382764</td>\n",
       "      <td>0.212474</td>\n",
       "      <td>2021-01-04</td>\n",
       "      <td>2021-0499</td>\n",
       "    </tr>\n",
       "    <tr>\n",
       "      <th>42655</th>\n",
       "      <td>Miomir Kecmanovic</td>\n",
       "      <td>Soon Woo Kwon</td>\n",
       "      <td>126952.0</td>\n",
       "      <td>200175.0</td>\n",
       "      <td>0.598802</td>\n",
       "      <td>0.410509</td>\n",
       "      <td>0.188293</td>\n",
       "      <td>2021-02-01</td>\n",
       "      <td>2021-8998</td>\n",
       "    </tr>\n",
       "    <tr>\n",
       "      <th>...</th>\n",
       "      <td>...</td>\n",
       "      <td>...</td>\n",
       "      <td>...</td>\n",
       "      <td>...</td>\n",
       "      <td>...</td>\n",
       "      <td>...</td>\n",
       "      <td>...</td>\n",
       "      <td>...</td>\n",
       "      <td>...</td>\n",
       "    </tr>\n",
       "    <tr>\n",
       "      <th>50803</th>\n",
       "      <td>Ben Shelton</td>\n",
       "      <td>Alexei Popyrin</td>\n",
       "      <td>210097.0</td>\n",
       "      <td>200615.0</td>\n",
       "      <td>0.606061</td>\n",
       "      <td>0.365870</td>\n",
       "      <td>0.240191</td>\n",
       "      <td>2023-01-16</td>\n",
       "      <td>2023-580</td>\n",
       "    </tr>\n",
       "    <tr>\n",
       "      <th>50854</th>\n",
       "      <td>Maxime Cressy</td>\n",
       "      <td>Antoine Bellier</td>\n",
       "      <td>134472.0</td>\n",
       "      <td>202195.0</td>\n",
       "      <td>0.813008</td>\n",
       "      <td>0.661534</td>\n",
       "      <td>0.151474</td>\n",
       "      <td>2023-02-06</td>\n",
       "      <td>2023-0375</td>\n",
       "    </tr>\n",
       "    <tr>\n",
       "      <th>50861</th>\n",
       "      <td>Marton Fucsovics</td>\n",
       "      <td>Geoffrey Blancaneaux</td>\n",
       "      <td>144972.0</td>\n",
       "      <td>105916.0</td>\n",
       "      <td>0.746269</td>\n",
       "      <td>0.544301</td>\n",
       "      <td>0.201968</td>\n",
       "      <td>2023-02-06</td>\n",
       "      <td>2023-0375</td>\n",
       "    </tr>\n",
       "    <tr>\n",
       "      <th>50896</th>\n",
       "      <td>Emilio Gomez</td>\n",
       "      <td>Gabriel Diallo</td>\n",
       "      <td>209113.0</td>\n",
       "      <td>105877.0</td>\n",
       "      <td>0.534759</td>\n",
       "      <td>0.314596</td>\n",
       "      <td>0.220163</td>\n",
       "      <td>2023-02-06</td>\n",
       "      <td>2023-0424</td>\n",
       "    </tr>\n",
       "    <tr>\n",
       "      <th>50950</th>\n",
       "      <td>Federico Coria</td>\n",
       "      <td>Francisco Cerundolo</td>\n",
       "      <td>105948.0</td>\n",
       "      <td>202103.0</td>\n",
       "      <td>0.436681</td>\n",
       "      <td>0.647264</td>\n",
       "      <td>0.210583</td>\n",
       "      <td>2023-02-06</td>\n",
       "      <td>2023-9158</td>\n",
       "    </tr>\n",
       "  </tbody>\n",
       "</table>\n",
       "<p>211 rows × 9 columns</p>\n",
       "</div>"
      ],
      "text/plain": [
       "              winner_name            loser_name  player_id  player_2_id  \\\n",
       "42442     Sebastian Korda         Soon Woo Kwon   126952.0     200624.0   \n",
       "42457      Roberto Quiroz          Ivo Karlovic   105933.0     103333.0   \n",
       "42460  Christian Harrison        Cristian Garin   106328.0     106426.0   \n",
       "42464  Christian Harrison        Gianluca Mager   106328.0     126149.0   \n",
       "42655   Miomir Kecmanovic         Soon Woo Kwon   126952.0     200175.0   \n",
       "...                   ...                   ...        ...          ...   \n",
       "50803         Ben Shelton        Alexei Popyrin   210097.0     200615.0   \n",
       "50854       Maxime Cressy       Antoine Bellier   134472.0     202195.0   \n",
       "50861    Marton Fucsovics  Geoffrey Blancaneaux   144972.0     105916.0   \n",
       "50896        Emilio Gomez        Gabriel Diallo   209113.0     105877.0   \n",
       "50950      Federico Coria   Francisco Cerundolo   105948.0     202103.0   \n",
       "\n",
       "             p1        p2  abs_diff tourney_date tourney_id  \n",
       "42442  0.574713  0.359593  0.215120   2021-01-04  2021-0499  \n",
       "42457  0.423729  0.583139  0.159410   2021-01-04  2021-0499  \n",
       "42460  0.625000  0.778787  0.153787   2021-01-04  2021-0499  \n",
       "42464  0.595238  0.382764  0.212474   2021-01-04  2021-0499  \n",
       "42655  0.598802  0.410509  0.188293   2021-02-01  2021-8998  \n",
       "...         ...       ...       ...          ...        ...  \n",
       "50803  0.606061  0.365870  0.240191   2023-01-16   2023-580  \n",
       "50854  0.813008  0.661534  0.151474   2023-02-06  2023-0375  \n",
       "50861  0.746269  0.544301  0.201968   2023-02-06  2023-0375  \n",
       "50896  0.534759  0.314596  0.220163   2023-02-06  2023-0424  \n",
       "50950  0.436681  0.647264  0.210583   2023-02-06  2023-9158  \n",
       "\n",
       "[211 rows x 9 columns]"
      ]
     },
     "execution_count": 37,
     "metadata": {},
     "output_type": "execute_result"
    }
   ],
   "source": [
    "trial[trial['abs_diff'] >= 0.15][cols]"
   ]
  },
  {
   "cell_type": "code",
   "execution_count": null,
   "id": "2e5a980a",
   "metadata": {},
   "outputs": [],
   "source": []
  }
 ],
 "metadata": {
  "kernelspec": {
   "display_name": "Python 3 (ipykernel)",
   "language": "python",
   "name": "python3"
  },
  "language_info": {
   "codemirror_mode": {
    "name": "ipython",
    "version": 3
   },
   "file_extension": ".py",
   "mimetype": "text/x-python",
   "name": "python",
   "nbconvert_exporter": "python",
   "pygments_lexer": "ipython3",
   "version": "3.9.16"
  }
 },
 "nbformat": 4,
 "nbformat_minor": 5
}
