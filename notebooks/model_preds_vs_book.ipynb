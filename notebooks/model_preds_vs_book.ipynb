{
 "cells": [
  {
   "cell_type": "code",
   "execution_count": 8,
   "id": "d39b8371",
   "metadata": {},
   "outputs": [],
   "source": [
    "import os\n",
    "import sys\n",
    "\n",
    "import pandas as pd\n",
    "import numpy as np\n",
    "import matplotlib.pyplot as plt\n",
    "import seaborn as sns\n",
    "\n",
    "from sklearn.metrics import brier_score_loss, log_loss\n",
    "from sklearn.calibration import calibration_curve, CalibrationDisplay\n",
    "\n",
    "sys.path.append('../')\n",
    "\n",
    "from utils import load_atp_data"
   ]
  },
  {
   "cell_type": "code",
   "execution_count": 76,
   "id": "341ae5cc",
   "metadata": {},
   "outputs": [],
   "source": [
    "def kelly_winner_bet(row):\n",
    "    \n",
    "    base = row['model_w_pred']\n",
    "    sub = (1 - base) / (row['psw'] - 1)\n",
    "    \n",
    "    return base - sub\n",
    "\n",
    "def kelly_loser_bet(row):\n",
    "    \n",
    "    base = row['model_l_pred']\n",
    "    sub = (1 - base) / (row['psl'] - 1)\n",
    "    \n",
    "    return base -sub"
   ]
  },
  {
   "cell_type": "code",
   "execution_count": 11,
   "id": "ae97d332",
   "metadata": {},
   "outputs": [
    {
     "name": "stdout",
     "output_type": "stream",
     "text": [
      "shape before dropping match dupes: (583792, 75)\n",
      "shape after dropping match dupes: (583731, 75)\n"
     ]
    }
   ],
   "source": [
    "# loading all atp data\n",
    "df = load_atp_data('../tennis_atp')"
   ]
  },
  {
   "cell_type": "code",
   "execution_count": 13,
   "id": "bdee837b",
   "metadata": {},
   "outputs": [],
   "source": [
    "# loading the data with model predictions\n",
    "oof_df = pd.read_csv(\"../data/prediction_df.csv\", parse_dates=['player_tourney_date'])"
   ]
  },
  {
   "cell_type": "code",
   "execution_count": 5,
   "id": "34ec2a8d",
   "metadata": {},
   "outputs": [],
   "source": [
    "# loading the betting data \n",
    "years = ['2021.xlsx', '2022.xlsx', '2023.xlsx']\n",
    "\n",
    "folder = '../tennis_betting_data/'\n",
    "\n",
    "betting_df = pd.DataFrame()\n",
    "\n",
    "for year in years:\n",
    "    df_ = pd.read_excel(f'{folder}{year}')\n",
    "    betting_df = pd.concat([betting_df, df_])\n",
    "    \n",
    "betting_df['date_monday'] = betting_df['Date'] - pd.offsets.Week(weekday=0)\n",
    "betting_df['winner_last_name'] = [x.split()[0] for x in betting_df.Winner]\n",
    "betting_df['loser_last_name'] = [x.split()[0] for x in betting_df.Loser]\n",
    "\n",
    "betting_df.drop(columns='Surface', inplace=True)"
   ]
  },
  {
   "cell_type": "code",
   "execution_count": 14,
   "id": "ff4a17ac",
   "metadata": {},
   "outputs": [],
   "source": [
    "# creating a list->tuple of the players in each match\n",
    "# we'll use these tuples to merge the dataframes \n",
    "# this shouldnt be necessary but i foolishly messed up the\n",
    "# indices in the model df\n",
    "unique_match_players = df[['winner_id', 'loser_id']].values.tolist()\n",
    "df['details'] = unique_match_players\n",
    "df['details'] = [tuple(sorted(x)) for x in df['details']]\n",
    "\n",
    "unique_match_players_oof = oof_df[['player_id', 'player_2_id']].values.tolist()\n",
    "oof_df['details'] = unique_match_players_oof\n",
    "oof_df['details'] = [tuple(sorted(x)) for x in oof_df['details']]\n",
    "\n",
    "# creating the assessment df by merging the two\n",
    "assess_df = (\n",
    "    oof_df\n",
    "    .merge(df, how='left', left_on=['player_tourney_date', 'details'],\n",
    "           right_on=['tourney_date', 'details'])\n",
    ")\n",
    "\n",
    "# indicating when player_id in oof_df matches winner\n",
    "assess_df['player_one_winner'] = np.where(assess_df['player_id'] == assess_df['winner_id'], 1, 0)\n",
    "assess_df['winner_last_name'] = [x.split()[-1] for x in assess_df.winner_name]\n",
    "assess_df['loser_last_name'] = [x.split()[-1] for x in assess_df.loser_name]"
   ]
  },
  {
   "cell_type": "code",
   "execution_count": 82,
   "id": "05d70fe7",
   "metadata": {},
   "outputs": [
    {
     "name": "stdout",
     "output_type": "stream",
     "text": [
      "(3226, 194)\n"
     ]
    }
   ],
   "source": [
    "# creating the trial dataframe to test our model\n",
    "\n",
    "trial = assess_df.merge(betting_df, how='left', left_on=['tourney_date', 'winner_last_name', 'loser_last_name'],\n",
    "                 right_on=['date_monday', 'winner_last_name', 'loser_last_name'])\n",
    "\n",
    "trial = trial[~trial['date_monday'].isnull()]\n",
    "trial.columns = trial.columns.str.lower()\n",
    "\n",
    "# calculating odds with and without vigorish for the average price\n",
    "trial['avg_vegas_pred_w'] = 1 / trial['avgw']\n",
    "trial['avg_vegas_pred_l'] = 1 / trial['avgl']\n",
    "trial['avg_overround'] = trial[['avg_vegas_pred_w', 'avg_vegas_pred_l']].sum(axis=1)\n",
    "trial['avg_w_no_vig'] = trial['avg_vegas_pred_w'].div(trial['avg_overround'])\n",
    "trial['avg_l_no_vig'] = trial['avg_vegas_pred_l'].div(trial['avg_overround'])\n",
    "\n",
    "# calculating odds with and without vigorish for pinnacle\n",
    "trial['pinnacle_vegas_pred_w'] = 1 / trial['psw']\n",
    "trial['pinnacle_vegas_pred_l'] = 1 / trial['psl']\n",
    "trial['pinnacle_overround'] = trial[['pinnacle_vegas_pred_w', 'pinnacle_vegas_pred_l']].sum(axis=1)\n",
    "trial['pinnacle_w_no_vig'] = trial['pinnacle_vegas_pred_w'].div(trial['pinnacle_overround'])\n",
    "trial['pinnacle_l_no_vig'] = trial['pinnacle_vegas_pred_l'].div(trial['pinnacle_overround'])\n",
    "\n",
    "# converting the model predictions to winner and loser predictions\n",
    "trial['model_w_pred'] = np.where(trial['player_one_winner'] == 1,\n",
    "                                 trial['pred_player_one_win'],\n",
    "                                 1 - trial['pred_player_one_win'])\n",
    "\n",
    "trial['model_l_pred'] = 1 - trial['model_w_pred']\n",
    "\n",
    "# calculating kelly bet given predictions\n",
    "trial['winner_kelly_bet'] = trial.apply(kelly_winner_bet, axis=1)\n",
    "trial['loser_kelly_bet'] = trial.apply(kelly_loser_bet, axis=1)\n",
    "\n",
    "# dropping all rows where we don't have a vegas prediction\n",
    "# and eliminating some anomalies\n",
    "trial = trial[~trial['avg_vegas_pred_w'].isnull()].copy()\n",
    "trial = trial[~trial['pinnacle_vegas_pred_w'].isnull()].copy()\n",
    "trial = trial[trial['pinnacle_vegas_pred_w'].between(0, 1)].copy()\n",
    "trial = trial[trial['avg_overround'].between(1, 1.07)].copy()\n",
    "trial = trial[trial['pinnacle_overround'].between(1, 1.03)].copy()\n",
    "\n",
    "print(trial.shape)"
   ]
  },
  {
   "cell_type": "code",
   "execution_count": 83,
   "id": "b3ba5f41",
   "metadata": {},
   "outputs": [
    {
     "name": "stdout",
     "output_type": "stream",
     "text": [
      "the logloss for pinnacle: 0.5748254634577388\n",
      "the logloss for my model: 0.5824280598425258\n",
      "the logloss for avg vegas: 0.5776862859841835\n"
     ]
    }
   ],
   "source": [
    "trial['rearrange'] = np.random.choice([0, 1], size=len(trial))\n",
    "trial['p1'] = np.where(trial['rearrange'] == 1, trial['pinnacle_vegas_pred_w'], trial['pinnacle_vegas_pred_l'])\n",
    "trial['p2'] = np.where(trial['rearrange'] == 1, trial['model_w_pred'], trial['model_l_pred'])\n",
    "trial['p3'] = np.where(trial['rearrange'] == 1, trial['avg_vegas_pred_w'], trial['avg_vegas_pred_l'])\n",
    "\n",
    "print(\"the logloss for pinnacle:\", log_loss(trial['rearrange'], trial['p1']))\n",
    "print(\"the logloss for my model:\", log_loss(trial['rearrange'], trial['p2']))\n",
    "print(\"the logloss for avg vegas:\", log_loss(trial['rearrange'], trial['p3']))"
   ]
  },
  {
   "cell_type": "code",
   "execution_count": 44,
   "id": "67fc6f41",
   "metadata": {},
   "outputs": [
    {
     "data": {
      "image/png": "[encoded data removed]",
      "text/plain": [
       "<Figure size 400x300 with 1 Axes>"
      ]
     },
     "metadata": {},
     "output_type": "display_data"
    }
   ],
   "source": [
    "fig, ax = plt.subplots(figsize=(4,3))\n",
    "\n",
    "sns.histplot(trial['avg_vegas_pred_w'], bins=25, label='Avg Vegas')\n",
    "sns.histplot(trial['pinnacle_vegas_pred_w'], bins=25, label='Pinnacle')\n",
    "sns.histplot(trial['model_w_pred'], bins=25, label='Model')\n",
    "\n",
    "plt.legend()\n",
    "plt.show()"
   ]
  },
  {
   "cell_type": "code",
   "execution_count": 34,
   "id": "3b7551b6",
   "metadata": {},
   "outputs": [],
   "source": [
    "model_brier = lambda x: brier_score_loss(x['player_one_winner'], x['model_w_pred'])\n",
    "pinnacle_vegas_brier = lambda x: brier_score_loss(x['player_one_winner'], x['pinnacle_vegas_pred_w'])\n",
    "\n",
    "briers_df = (\n",
    "    pd.concat([trial.groupby(['season', 'tourney_name']).apply(model_brier),\n",
    "               trial.groupby(['season', 'tourney_name']).apply(pinnacle_vegas_brier)], axis=1)\n",
    "    .rename(columns={0 : 'model', 1 : 'pinnacle'})\n",
    ")\n",
    "\n",
    "briers_df['model_wins'] = (briers_df['model'] < briers_df['pinnacle']).astype(int)"
   ]
  },
  {
   "cell_type": "code",
   "execution_count": 180,
   "id": "34b05070",
   "metadata": {},
   "outputs": [
    {
     "data": {
      "image/png": "[encoded data removed]",
      "text/plain": [
       "<Figure size 400x300 with 1 Axes>"
      ]
     },
     "metadata": {},
     "output_type": "display_data"
    }
   ],
   "source": [
    "# plotting the performance of the model vs pinny\n",
    "# across tourneys\n",
    "\n",
    "fig, ax = plt.subplots(figsize=(4,3))\n",
    "sns.histplot(briers_df['model'], label='Model')\n",
    "sns.histplot(briers_df['pinnacle'], label='Pinny', alpha=0.5)\n",
    "\n",
    "plt.title(\"Model and Pinny by Tournament\")\n",
    "plt.legend()\n",
    "plt.show()"
   ]
  },
  {
   "cell_type": "markdown",
   "id": "75825963",
   "metadata": {},
   "source": [
    "# Does a Mixture of Vegas + Model Beat Vegas?  \n",
    "\n",
    "The answer is yes, as can be seen below. That means  \n",
    "we're likely on the right track, even if we aren't there yet.  \n",
    "The model is capturing something useful.  "
   ]
  },
  {
   "cell_type": "code",
   "execution_count": 168,
   "id": "eeb6f6d9",
   "metadata": {},
   "outputs": [
    {
     "name": "stdout",
     "output_type": "stream",
     "text": [
      "log loss for vegas only: 0.5748254634577388\n",
      "log loss on the out of fold predictions 0.5727791701860678\n"
     ]
    }
   ],
   "source": [
    "from sklearn.model_selection import KFold\n",
    "from sklearn.linear_model import LinearRegression\n",
    "\n",
    "splitter = KFold(n_splits=100, shuffle=True)\n",
    "\n",
    "oof = np.zeros(len(trial))\n",
    "\n",
    "X = trial[['p1', 'p2']]\n",
    "y = trial['rearrange']\n",
    "\n",
    "for train, val in splitter.split(X, y):\n",
    "    \n",
    "    train_x = X.iloc[train]\n",
    "    train_y = y.iloc[train]\n",
    "    \n",
    "    val_x = X.iloc[val]\n",
    "    \n",
    "    model = LinearRegression()\n",
    "    model.fit(train_x, train_y)\n",
    "    \n",
    "    preds = model.predict(val_x)\n",
    "    oof[val] = preds\n",
    "\n",
    "print(\"log loss for vegas only:\", log_loss(y, trial['p1']))\n",
    "print(\"log loss on the out of fold predictions\", log_loss(y, oof))"
   ]
  },
  {
   "cell_type": "markdown",
   "id": "6c597ba8",
   "metadata": {},
   "source": [
    "# Bootstrap Resampling  \n",
    "\n",
    "Bootstrap resampling to estimate SE of log loss for the Pinnacle  \n",
    "closing line and the model. Here we sample tourney_ids with  \n",
    "replacement to account for the intra-tournament correlation in  \n",
    "error from, for example, weather, court conditions, incentives  \n",
    "invisible to me (home crowd, favorite tournament, critical career  \n",
    "juncture, etc.)"
   ]
  },
  {
   "cell_type": "code",
   "execution_count": 170,
   "id": "c91c66ac",
   "metadata": {},
   "outputs": [
    {
     "name": "stdout",
     "output_type": "stream",
     "text": [
      "vegas mean and std of samples 0.5552140407823777 0.008084183534479933\n",
      "model mean and std of samples 0.5620120885061041 0.008279715494092232\n"
     ]
    }
   ],
   "source": [
    "# doing bootstrap resampling to estimate the mean and standard\n",
    "# error of our log loss samples. it's likely that errors are correlated,\n",
    "# so in each iteration we sample a set of tourney ids to compare.\n",
    "# the standard error converges to 0.008 for vegas and 0.0083 for model\n",
    "\n",
    "SAMPLES = 250\n",
    "vegas_losses = []\n",
    "model_losses = []\n",
    "\n",
    "for _ in range(SAMPLES):\n",
    "\n",
    "    tourneys = trial['tourney_id'].sample(55, replace=True)\n",
    "    bootstrap_sample = trial[trial['tourney_id'].isin(tourneys)]\n",
    "    \n",
    "    vegas_loss = log_loss(bootstrap_sample['rearrange'], bootstrap_sample['p1'])\n",
    "    model_loss = log_loss(bootstrap_sample['rearrange'], bootstrap_sample['p2'])\n",
    "    \n",
    "    vegas_losses.append(vegas_loss)\n",
    "    model_losses.append(model_loss)\n",
    "\n",
    "print(\"vegas mean and std of samples\", np.mean(vegas_losses), np.std(vegas_losses, ddof=1))\n",
    "print(\"model mean and std of samples\", np.mean(model_losses), np.std(model_losses, ddof=1))"
   ]
  },
  {
   "cell_type": "markdown",
   "id": "10a29f22",
   "metadata": {},
   "source": [
    "# Model Performance by Condition  "
   ]
  },
  {
   "cell_type": "code",
   "execution_count": 102,
   "id": "3dd6967b",
   "metadata": {},
   "outputs": [],
   "source": [
    "# calculating diff between market and model\n",
    "trial['oof_mixture'] = oof\n",
    "trial['abs_diff'] = abs(trial['p1'] - trial['p2'])\n",
    "trial['diff_bin'] = pd.qcut(trial['abs_diff'], q=20)\n",
    "\n",
    "trial['month'] = trial.tourney_date.dt.month\n",
    "trial['season'] = trial.tourney_date.dt.year"
   ]
  },
  {
   "cell_type": "code",
   "execution_count": 182,
   "id": "b87488ad",
   "metadata": {},
   "outputs": [
    {
     "data": {
      "text/html": [
       "<div>\n",
       "<style scoped>\n",
       "    .dataframe tbody tr th:only-of-type {\n",
       "        vertical-align: middle;\n",
       "    }\n",
       "\n",
       "    .dataframe tbody tr th {\n",
       "        vertical-align: top;\n",
       "    }\n",
       "\n",
       "    .dataframe thead th {\n",
       "        text-align: right;\n",
       "    }\n",
       "</style>\n",
       "<table border=\"1\" class=\"dataframe\">\n",
       "  <thead>\n",
       "    <tr style=\"text-align: right;\">\n",
       "      <th></th>\n",
       "      <th>vegas</th>\n",
       "      <th>model</th>\n",
       "      <th>matches</th>\n",
       "      <th>vegas_edge</th>\n",
       "    </tr>\n",
       "    <tr>\n",
       "      <th>month</th>\n",
       "      <th></th>\n",
       "      <th></th>\n",
       "      <th></th>\n",
       "      <th></th>\n",
       "    </tr>\n",
       "  </thead>\n",
       "  <tbody>\n",
       "    <tr>\n",
       "      <th>1</th>\n",
       "      <td>0.584715</td>\n",
       "      <td>0.597111</td>\n",
       "      <td>323</td>\n",
       "      <td>0.012396</td>\n",
       "    </tr>\n",
       "    <tr>\n",
       "      <th>2</th>\n",
       "      <td>0.576748</td>\n",
       "      <td>0.595960</td>\n",
       "      <td>414</td>\n",
       "      <td>0.019212</td>\n",
       "    </tr>\n",
       "    <tr>\n",
       "      <th>3</th>\n",
       "      <td>0.594235</td>\n",
       "      <td>0.589152</td>\n",
       "      <td>320</td>\n",
       "      <td>-0.005083</td>\n",
       "    </tr>\n",
       "    <tr>\n",
       "      <th>4</th>\n",
       "      <td>0.600614</td>\n",
       "      <td>0.594272</td>\n",
       "      <td>266</td>\n",
       "      <td>-0.006342</td>\n",
       "    </tr>\n",
       "    <tr>\n",
       "      <th>5</th>\n",
       "      <td>0.536194</td>\n",
       "      <td>0.541713</td>\n",
       "      <td>349</td>\n",
       "      <td>0.005519</td>\n",
       "    </tr>\n",
       "    <tr>\n",
       "      <th>6</th>\n",
       "      <td>0.549976</td>\n",
       "      <td>0.560475</td>\n",
       "      <td>332</td>\n",
       "      <td>0.010499</td>\n",
       "    </tr>\n",
       "    <tr>\n",
       "      <th>7</th>\n",
       "      <td>0.603877</td>\n",
       "      <td>0.618313</td>\n",
       "      <td>254</td>\n",
       "      <td>0.014436</td>\n",
       "    </tr>\n",
       "    <tr>\n",
       "      <th>8</th>\n",
       "      <td>0.577350</td>\n",
       "      <td>0.589407</td>\n",
       "      <td>419</td>\n",
       "      <td>0.012057</td>\n",
       "    </tr>\n",
       "    <tr>\n",
       "      <th>9</th>\n",
       "      <td>0.579923</td>\n",
       "      <td>0.591635</td>\n",
       "      <td>176</td>\n",
       "      <td>0.011712</td>\n",
       "    </tr>\n",
       "    <tr>\n",
       "      <th>10</th>\n",
       "      <td>0.554886</td>\n",
       "      <td>0.560285</td>\n",
       "      <td>302</td>\n",
       "      <td>0.005399</td>\n",
       "    </tr>\n",
       "    <tr>\n",
       "      <th>11</th>\n",
       "      <td>0.593968</td>\n",
       "      <td>0.566641</td>\n",
       "      <td>71</td>\n",
       "      <td>-0.027327</td>\n",
       "    </tr>\n",
       "  </tbody>\n",
       "</table>\n",
       "</div>"
      ],
      "text/plain": [
       "          vegas     model  matches  vegas_edge\n",
       "month                                         \n",
       "1      0.584715  0.597111      323    0.012396\n",
       "2      0.576748  0.595960      414    0.019212\n",
       "3      0.594235  0.589152      320   -0.005083\n",
       "4      0.600614  0.594272      266   -0.006342\n",
       "5      0.536194  0.541713      349    0.005519\n",
       "6      0.549976  0.560475      332    0.010499\n",
       "7      0.603877  0.618313      254    0.014436\n",
       "8      0.577350  0.589407      419    0.012057\n",
       "9      0.579923  0.591635      176    0.011712\n",
       "10     0.554886  0.560285      302    0.005399\n",
       "11     0.593968  0.566641       71   -0.027327"
      ]
     },
     "execution_count": 182,
     "metadata": {},
     "output_type": "execute_result"
    }
   ],
   "source": [
    "month_comparison = (\n",
    "    pd.concat(\n",
    "        [trial.groupby('month').apply(lambda x: log_loss(x['rearrange'], x['p1'])), \n",
    "         trial.groupby('month').apply(lambda x: log_loss(x['rearrange'], x['p2']))], axis=1)\n",
    "    .rename(columns={0 : 'vegas', 1 : 'model'})\n",
    ")\n",
    "\n",
    "month_comparison['matches'] = trial.groupby('month').size()\n",
    "month_comparison['vegas_edge'] = month_comparison['model'] - month_comparison['vegas']\n",
    "\n",
    "month_comparison"
   ]
  }
 ],
 "metadata": {
  "kernelspec": {
   "display_name": "Python 3 (ipykernel)",
   "language": "python",
   "name": "python3"
  },
  "language_info": {
   "codemirror_mode": {
    "name": "ipython",
    "version": 3
   },
   "file_extension": ".py",
   "mimetype": "text/x-python",
   "name": "python",
   "nbconvert_exporter": "python",
   "pygments_lexer": "ipython3",
   "version": "3.9.16"
  }
 },
 "nbformat": 4,
 "nbformat_minor": 5
}
