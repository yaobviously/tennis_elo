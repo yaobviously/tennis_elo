{
 "cells": [
  {
   "cell_type": "code",
   "execution_count": 1,
   "id": "cfd4ff08",
   "metadata": {},
   "outputs": [],
   "source": [
    "import os\n",
    "import pandas as pd\n",
    "import numpy as np\n",
    "import pickle\n",
    "\n",
    "from scipy.optimize import minimize\n",
    "\n",
    "\n",
    "from trueskillthroughtime import Game, Player, History, Gaussian"
   ]
  },
  {
   "cell_type": "code",
   "execution_count": 3,
   "id": "119d5d38",
   "metadata": {},
   "outputs": [
    {
     "name": "stdout",
     "output_type": "stream",
     "text": [
      "shape before dropping match dupes: (581807, 53)\n",
      "shape after dropping match dupes: (581746, 53)\n"
     ]
    }
   ],
   "source": [
    "folder = \"C:/Users/yaobv/tennis_project/tennis_atp\"\n",
    "\n",
    "df = pd.DataFrame()\n",
    "\n",
    "for file in os.listdir(f'{folder}'):\n",
    "\n",
    "    if file.endswith('csv') and '20' in file and 'doubles' not in file:\n",
    "        df_ = pd.read_csv(f'{folder}/{file}')\n",
    "        df = pd.concat([df, df_])\n",
    "\n",
    "\n",
    "df = df[df['winner_name'].apply(lambda x: isinstance(x, str))].copy()\n",
    "df = df[df['loser_name'].apply(lambda x: isinstance(x, str))].copy()\n",
    "df = df[~df['winner_name'].str.contains('Unknown')].copy()\n",
    "df = df[~df['loser_name'].str.contains('Unknown')].copy()\n",
    "df = df[df['winner_name'] != df['loser_name']].copy()\n",
    "\n",
    "df.sort_values(by=['tourney_date', 'tourney_id', 'round'],\n",
    "               ascending=[True, True, True],\n",
    "               inplace=True)\n",
    "\n",
    "print('shape before dropping match dupes:', df.shape)\n",
    "\n",
    "\n",
    "df.drop_duplicates(subset=['winner_name', 'loser_name', 'tourney_id'],\n",
    "                   inplace=True)\n",
    "\n",
    "print('shape after dropping match dupes:', df.shape)\n",
    "\n",
    "df.reset_index(inplace=True, drop=True)"
   ]
  },
  {
   "cell_type": "code",
   "execution_count": 4,
   "id": "25fe2dea",
   "metadata": {},
   "outputs": [],
   "source": [
    "columns = zip(df.winner_name, df.loser_name, df.surface)\n",
    "\n",
    "composition = [[[winner, winner + surface], [loser, loser + surface]]\n",
    "               for winner, loser, surface in columns]"
   ]
  },
  {
   "cell_type": "code",
   "execution_count": 5,
   "id": "84536fdb",
   "metadata": {},
   "outputs": [],
   "source": [
    "all_atp_players = set([val for sublist in zip(df.winner_name, df.loser_name) for val in sublist])"
   ]
  },
  {
   "cell_type": "code",
   "execution_count": 19,
   "id": "45637f2e",
   "metadata": {},
   "outputs": [],
   "source": [
    "priors = dict([(p, Player(Gaussian(0., 1.51), 1.5, 0.098) ) for p in all_atp_players])"
   ]
  },
  {
   "cell_type": "code",
   "execution_count": 20,
   "id": "f31596cb",
   "metadata": {},
   "outputs": [],
   "source": [
    "true_skill_history_priors = History(composition=composition,\n",
    "                                    priors=priors,\n",
    "                                    beta=0,\n",
    "                                    sigma=0.5,\n",
    "                                    gamma=0.01)"
   ]
  },
  {
   "cell_type": "code",
   "execution_count": 21,
   "id": "bc276f73",
   "metadata": {},
   "outputs": [
    {
     "data": {
      "text/plain": [
       "-346716.8869531072"
      ]
     },
     "execution_count": 21,
     "metadata": {},
     "output_type": "execute_result"
    }
   ],
   "source": [
    "true_skill_history_priors.log_evidence()"
   ]
  },
  {
   "cell_type": "code",
   "execution_count": 34,
   "id": "2543cf91",
   "metadata": {},
   "outputs": [],
   "source": [
    "def training(x):\n",
    "    \n",
    "    a, b = x\n",
    "    \n",
    "    priors = dict([(p, Player(Gaussian(0, a), 1.5, 0.98)) for p in all_atp_players])\n",
    "    \n",
    "    true_skill_history_priors = History(composition=composition,\n",
    "                                    priors=priors,\n",
    "                                    beta=0,\n",
    "                                    sigma=b,\n",
    "                                    gamma=0.01)\n",
    "    \n",
    "    log_ev = true_skill_history_priors.log_evidence()\n",
    "    \n",
    "    return -1 * log_ev  "
   ]
  },
  {
   "cell_type": "code",
   "execution_count": null,
   "id": "637dd720",
   "metadata": {},
   "outputs": [],
   "source": [
    "to_start = [1.3, 0.5]\n",
    "\n",
    "bounds = ((0.9, 1.6), (0.3, 0.8))\n",
    "\n",
    "result = minimize(training, to_start, bounds=bounds, method='SLSQP')"
   ]
  },
  {
   "cell_type": "code",
   "execution_count": 39,
   "id": "bdf3217c",
   "metadata": {},
   "outputs": [
    {
     "name": "stdout",
     "output_type": "stream",
     "text": [
      "Iteration =  0 , step =  (3.7638065299271775, 0.9568087274906079)\n",
      "Iteration =  1 , step =  (0.5992915591564723, 0.04234960836586121)\n",
      "Iteration =  2 , step =  (0.3750498157579929, 0.014743538780252585)\n",
      "Iteration =  3 , step =  (0.27690898982839673, 0.010851022039432667)\n",
      "Iteration =  4 , step =  (0.23299169677792353, 0.009073882388377585)\n",
      "Iteration =  5 , step =  (0.20274338728320362, 0.007937127428417012)\n",
      "Iteration =  6 , step =  (0.1811644466948925, 0.006970466322375524)\n",
      "Iteration =  7 , step =  (0.16183371420684978, 0.006148849143449153)\n",
      "Iteration =  8 , step =  (0.14468375524345944, 0.0054461237981418)\n",
      "Iteration =  9 , step =  (0.12951581360599285, 0.0048408627363858425)\n",
      "End\n"
     ]
    },
    {
     "data": {
      "text/plain": [
       "((0.12951581360599285, 0.0048408627363858425), 10)"
      ]
     },
     "execution_count": 39,
     "metadata": {},
     "output_type": "execute_result"
    }
   ],
   "source": [
    "true_skill_history_priors.convergence(epsilon=0.01, iterations=10)"
   ]
  },
  {
   "cell_type": "code",
   "execution_count": 40,
   "id": "6e9bbdef",
   "metadata": {},
   "outputs": [
    {
     "data": {
      "text/plain": [
       "-326440.88258121174"
      ]
     },
     "execution_count": 40,
     "metadata": {},
     "output_type": "execute_result"
    }
   ],
   "source": [
    "true_skill_history_priors.log_evidence()"
   ]
  },
  {
   "cell_type": "code",
   "execution_count": 41,
   "id": "36cf4599",
   "metadata": {},
   "outputs": [],
   "source": [
    "ts_dict = true_skill_history_priors.learning_curves()"
   ]
  },
  {
   "cell_type": "code",
   "execution_count": 42,
   "id": "5a973885",
   "metadata": {},
   "outputs": [],
   "source": [
    "small_dict = dict()\n",
    "\n",
    "for key in ts_dict.keys():\n",
    "    small_dict[key] = ts_dict[key][-1]"
   ]
  },
  {
   "cell_type": "code",
   "execution_count": 86,
   "id": "d0b0020a",
   "metadata": {},
   "outputs": [],
   "source": [
    "top_players = dict()\n",
    "\n",
    "for player, rating in small_dict.items():\n",
    "    \n",
    "    top_players[player] = list(rating[1])[0]"
   ]
  },
  {
   "cell_type": "code",
   "execution_count": 89,
   "id": "ea6c7d5e",
   "metadata": {},
   "outputs": [
    {
     "data": {
      "text/plain": [
       "[('Novak Djokovic', 9.273663390050773),\n",
       " ('Robin Soderling', 8.39284263036838),\n",
       " ('Carlos Alcaraz', 7.804666508346942),\n",
       " ('Stefanos Tsitsipas', 7.778554616843257),\n",
       " ('Matteo Berrettini', 7.575524197051474),\n",
       " ('Alexander Zverev', 7.443913394475121),\n",
       " ('Rafael Nadal', 7.383220595871317),\n",
       " ('Nick Kyrgios', 7.349614231153415),\n",
       " ('Felix Auger Aliassime', 7.344618655079774),\n",
       " ('Roger Federer', 7.246479432474963),\n",
       " ('Holger Rune', 7.1376156564818585),\n",
       " ('Daniil Medvedev', 7.034209250580584),\n",
       " ('Jannik Sinner', 6.998889875131355),\n",
       " ('Juan Martin del Potro', 6.855875722959703),\n",
       " ('Sebastian Korda', 6.846484537383871),\n",
       " ('Taylor Fritz', 6.8386449332453205),\n",
       " ('Cameron Norrie', 6.711937934450516),\n",
       " ('Casper Ruud', 6.67839116853247),\n",
       " ('Frances Tiafoe', 6.583157251182714),\n",
       " ('Hubert Hurkacz', 6.579836456538137),\n",
       " ('Andrey Rublev', 6.537087781448688),\n",
       " ('David Nalbandian', 6.487021689170225),\n",
       " ('Alex De Minaur', 6.482223026403858),\n",
       " ('Karen Khachanov', 6.451622281774738),\n",
       " ('Borna Coric', 6.434492722723891)]"
      ]
     },
     "execution_count": 89,
     "metadata": {},
     "output_type": "execute_result"
    }
   ],
   "source": [
    "sorted(top_players.items(), key=lambda x: x[1], reverse=True)[:25]"
   ]
  },
  {
   "cell_type": "code",
   "execution_count": 90,
   "id": "677b7e65",
   "metadata": {},
   "outputs": [],
   "source": [
    "clay_players = [x for x in top_players.keys() if x.endswith('Clay')]\n",
    "clay_dict = dict()\n",
    "\n",
    "for p, r in small_dict.items():\n",
    "    if p in clay_players:\n",
    "        clay_dict[p] = list(r[1])[0]        "
   ]
  },
  {
   "cell_type": "code",
   "execution_count": 99,
   "id": "1345da03",
   "metadata": {},
   "outputs": [
    {
     "data": {
      "text/plain": [
       "[('Filippo VolandriClay', 2.034824026340198),\n",
       " ('Rafael NadalClay', 1.7398750755004595),\n",
       " ('Daniel Gimeno TraverClay', 1.6657520755190967),\n",
       " ('Federico DelbonisClay', 1.5986774537875765),\n",
       " ('Potito StaraceClay', 1.5332930373432294),\n",
       " ('Adrian UngurClay', 1.515806148660574),\n",
       " ('Pablo AndujarClay', 1.5147155265139758),\n",
       " ('Gaston GaudioClay', 1.477879059682873),\n",
       " ('Albert MontanesClay', 1.4769406537309206),\n",
       " ('Marco CecchinatoClay', 1.452026189346882),\n",
       " ('David SanchezClay', 1.4302984612738923),\n",
       " ('Albert PortasClay', 1.4165234043733175),\n",
       " ('Ruben Ramirez HidalgoClay', 1.4083556448557817),\n",
       " ('Oscar HernandezClay', 1.3961809715631273),\n",
       " ('Laslo DjereClay', 1.3620709147301602),\n",
       " ('Nicolas AlmagroClay', 1.3514624896343512),\n",
       " ('Facundo BagnisClay', 1.343836397127044),\n",
       " ('Alessio Di MauroClay', 1.326519431471131),\n",
       " ('Simone VagnozziClay', 1.3139490365486515),\n",
       " ('Mariano PuertaClay', 1.3109418951115865),\n",
       " ('Jose AcasusoClay', 1.308203922288961),\n",
       " ('Eric ProdonClay', 1.2930829933484944),\n",
       " ('Pere RibaClay', 1.2894081069861596),\n",
       " ('Albert RamosClay', 1.277009926392541),\n",
       " ('David FerrerClay', 1.264984837699744)]"
      ]
     },
     "execution_count": 99,
     "metadata": {},
     "output_type": "execute_result"
    }
   ],
   "source": [
    "sorted(clay_dict.items(), key=lambda x: x[1], reverse=True)[:25]"
   ]
  },
  {
   "cell_type": "code",
   "execution_count": 92,
   "id": "76a2a96a",
   "metadata": {},
   "outputs": [],
   "source": [
    "grass_players = [x for x in top_players.keys() if x.endswith('Grass')]\n",
    "grass_dict = dict()\n",
    "\n",
    "for p, r in small_dict.items():\n",
    "    if p in grass_players:\n",
    "        grass_dict[p] = list(r[1])[0] "
   ]
  },
  {
   "cell_type": "code",
   "execution_count": 100,
   "id": "7152d66b",
   "metadata": {},
   "outputs": [
    {
     "data": {
      "text/plain": [
       "[('Nikolay DavydenkoGrass', -0.7869209903606953),\n",
       " ('Federico DelbonisGrass', -0.6066028496363657),\n",
       " ('Jose AcasusoGrass', -0.597233939629967),\n",
       " ('Pablo Carreno BustaGrass', -0.5955293147051006),\n",
       " ('Paolo LorenziGrass', -0.5834656099586347),\n",
       " ('Dominic ThiemGrass', -0.5697418346993327),\n",
       " ('Jaume MunarGrass', -0.5671697758941144),\n",
       " ('Diego SchwartzmanGrass', -0.5471400426968731),\n",
       " ('Dominik HrbatyGrass', -0.533818298918405),\n",
       " ('Casper RuudGrass', -0.5309723165832184),\n",
       " ('Juan Ignacio ChelaGrass', -0.5238807740169181),\n",
       " ('Dusan LajovicGrass', -0.512336477369519),\n",
       " ('Julien BoutterGrass', -0.5108599402812262),\n",
       " ('Laslo DjereGrass', -0.5071177850064708),\n",
       " ('Facundo BagnisGrass', -0.49964696751561033),\n",
       " ('Martin KlizanGrass', -0.4859648193998092),\n",
       " ('Stan WawrinkaGrass', -0.4821150121498125),\n",
       " ('Thierry AscioneGrass', -0.4762861818099803),\n",
       " ('Daniel Gimeno TraverGrass', -0.47157731517200563),\n",
       " ('Aldin SetkicGrass', -0.45980299031159655),\n",
       " ('Kimmer CoppejansGrass', -0.454621827296355),\n",
       " ('Egor GerasimovGrass', -0.44954241619174473),\n",
       " ('Yoshihito NishiokaGrass', -0.4491713989188201),\n",
       " ('Henri LaaksonenGrass', -0.43965427863556317),\n",
       " ('Rui MachadoGrass', -0.43610756552914126)]"
      ]
     },
     "execution_count": 100,
     "metadata": {},
     "output_type": "execute_result"
    }
   ],
   "source": [
    "sorted(grass_dict.items(), key=lambda x: x[1], reverse=False)[:25]"
   ]
  },
  {
   "cell_type": "code",
   "execution_count": 96,
   "id": "0eeb8770",
   "metadata": {},
   "outputs": [],
   "source": [
    "hard_players = [x for x in top_players.keys() if x.endswith('Hard')]\n",
    "hard_dict = dict()\n",
    "\n",
    "for p, r in small_dict.items():\n",
    "    if p in hard_players:\n",
    "        hard_dict[p] = list(r[1])[0] "
   ]
  },
  {
   "cell_type": "code",
   "execution_count": 97,
   "id": "9bc952d9",
   "metadata": {},
   "outputs": [
    {
     "data": {
      "text/plain": [
       "[('Vasek PospisilHard', 1.1877398803980928),\n",
       " ('James BlakeHard', 1.1804889157417129),\n",
       " ('Bradley KlahnHard', 1.1783713766065067),\n",
       " ('Jan Michael GambillHard', 1.0992895468054245),\n",
       " ('Alex Bogomolov JrHard', 1.0975890290086536),\n",
       " ('Michael RussellHard', 1.0861680146939454),\n",
       " ('Pablo Vivero GonzalezHard', 1.0861146769901153),\n",
       " ('Andres Artunedo MartinavarroHard', 1.0825509962922761),\n",
       " ('Danai UdomchokeHard', 1.0712780341100079),\n",
       " ('Bjorn PhauHard', 1.0663995153664902),\n",
       " ('Ricardas BerankisHard', 1.0194312385107114),\n",
       " ('Donald YoungHard', 1.0165654844777523),\n",
       " ('Yu Jr WangHard', 1.00611966292732),\n",
       " ('Gilles SimonHard', 1.0007019073044348),\n",
       " ('Lloyd HarrisHard', 0.9989057720158684),\n",
       " ('Cem IlkelHard', 0.9926418864883028),\n",
       " ('Tim SmyczekHard', 0.9779132314157563),\n",
       " ('Emil RuusuvuoriHard', 0.9736093334852436),\n",
       " ('Peng SunHard', 0.9695940196640503),\n",
       " ('Andre AgassiHard', 0.9644578489846389),\n",
       " ('Gael MonfilsHard', 0.95583861568909),\n",
       " ('David GuezHard', 0.9470721905181229),\n",
       " ('Andy RoddickHard', 0.9421962995288263),\n",
       " ('Pete SamprasHard', 0.9397003706251729),\n",
       " ('Illya MarchenkoHard', 0.9378651612926475)]"
      ]
     },
     "execution_count": 97,
     "metadata": {},
     "output_type": "execute_result"
    }
   ],
   "source": [
    "sorted(hard_dict.items(), key=lambda x: x[1], reverse=True)[:25]"
   ]
  }
 ],
 "metadata": {
  "kernelspec": {
   "display_name": "Python 3 (ipykernel)",
   "language": "python",
   "name": "python3"
  },
  "language_info": {
   "codemirror_mode": {
    "name": "ipython",
    "version": 3
   },
   "file_extension": ".py",
   "mimetype": "text/x-python",
   "name": "python",
   "nbconvert_exporter": "python",
   "pygments_lexer": "ipython3",
   "version": "3.9.16"
  }
 },
 "nbformat": 4,
 "nbformat_minor": 5
}
